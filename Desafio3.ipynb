{
  "nbformat": 4,
  "nbformat_minor": 0,
  "metadata": {
    "colab": {
      "provenance": [],
      "authorship_tag": "ABX9TyN0XJJc2sqak2osdDZ4LbIT",
      "include_colab_link": true
    },
    "kernelspec": {
      "name": "python3",
      "display_name": "Python 3"
    },
    "language_info": {
      "name": "python"
    }
  },
  "cells": [
    {
      "cell_type": "markdown",
      "metadata": {
        "id": "view-in-github",
        "colab_type": "text"
      },
      "source": [
        "<a href=\"https://colab.research.google.com/github/TheRealMrR/One_SegundaParte/blob/main/Desafio3.ipynb\" target=\"_parent\"><img src=\"https://colab.research.google.com/assets/colab-badge.svg\" alt=\"Open In Colab\"/></a>"
      ]
    },
    {
      "cell_type": "markdown",
      "source": [
        "Entrenando la programación\n",
        "\n",
        "1 - Escribe un programa que solicite dos números enteros e imprima todos los números enteros entre ellos.\n",
        "\n"
      ],
      "metadata": {
        "id": "ANv1UJgOs1x6"
      }
    },
    {
      "cell_type": "code",
      "execution_count": null,
      "metadata": {
        "colab": {
          "base_uri": "https://localhost:8080/"
        },
        "id": "AIW8c1W8sJs_",
        "outputId": "cc966610-0ad2-4ce1-971c-7b08fedbf3cd"
      },
      "outputs": [
        {
          "output_type": "stream",
          "name": "stdout",
          "text": [
            "Imprimir los numeros enteros dentro de un ranfgo\n",
            "Ingresa el primer valor entero8\n",
            "Ingresa el segundo valor entero3\n",
            "3\n",
            "4\n",
            "5\n",
            "6\n",
            "7\n"
          ]
        }
      ],
      "source": [
        "print('Imprimir los numeros enteros dentro de un ranfgo')\n",
        "a = int(input('Ingresa el primer valor entero'))\n",
        "b = int(input('Ingresa el segundo valor entero'))\n",
        "\n",
        "\n",
        "if a < b:\n",
        "  for i in range(a,b):\n",
        "    print(i)\n",
        "elif a > b:\n",
        "  for i in range(b,a):\n",
        "    print(i)\n",
        "else:\n",
        "  print('los  valores son iguales')\n"
      ]
    },
    {
      "cell_type": "markdown",
      "source": [
        "2 - Escribe un programa para calcular cuántos días tomará que la colonia de una bacteria A supere o iguale a la colonia de una bacteria B, basado en tasas de crecimiento del 3% y 1.5%, respectivamente. Supón que la colonia A comienza con 4 elementos y B con 10.\n",
        "\n"
      ],
      "metadata": {
        "id": "GcZNkXLSs6Fq"
      }
    },
    {
      "cell_type": "code",
      "source": [
        "a = 4\n",
        "b = 10\n",
        "dias = 0\n",
        "\n",
        "while a <= b:\n",
        "  a *= 1.03\n",
        "  b *= 1.015\n",
        "  dias += 1\n",
        "print(f'Pasaron {dias}')"
      ],
      "metadata": {
        "colab": {
          "base_uri": "https://localhost:8080/"
        },
        "id": "nyVVXeAlu46P",
        "outputId": "c34455a5-d3d0-4843-95ab-6fb692efc2d8"
      },
      "execution_count": null,
      "outputs": [
        {
          "output_type": "stream",
          "name": "stdout",
          "text": [
            "Pasaron 63\n"
          ]
        }
      ]
    },
    {
      "cell_type": "markdown",
      "source": [
        "3 - Para procesar una cantidad de 15 datos de evaluaciones de usuarios de un servicio de la empresa, necesitamos verificar si las calificaciones son válidas. Por lo tanto, escribe un programa que recibirá calificaciones del 0 al 5 y verificará si son valores válidos. Si se ingresa una calificación superior a 5 o inferior a 0, se repetirá hasta que el usuario ingrese un valor válido.\n",
        "\n"
      ],
      "metadata": {
        "id": "ZkjafGaPs_2_"
      }
    },
    {
      "cell_type": "code",
      "source": [
        "for i in range(15):\n",
        "  cali = float(input('Ingresa un valor'))\n",
        "\n",
        "  while cali < 0 or cali > 5 :\n",
        "    cali = float(input5('La calificacion no esta en el rago, ingresala nuevamente'))\n",
        "print('Evaluacion terminada')\n",
        "\n"
      ],
      "metadata": {
        "colab": {
          "base_uri": "https://localhost:8080/"
        },
        "id": "y6Pw4OrDTL6j",
        "outputId": "ed6d4729-3733-48e8-ecd6-782574842f9c"
      },
      "execution_count": null,
      "outputs": [
        {
          "output_type": "stream",
          "name": "stdout",
          "text": [
            "Ingresa un valor1\n",
            "Ingresa un valor2\n",
            "Ingresa un valor3\n",
            "Ingresa un valor4\n",
            "Ingresa un valor5\n",
            "Ingresa un valor0\n",
            "Ingresa un valor1\n",
            "Ingresa un valor2\n",
            "Ingresa un valor3\n",
            "Ingresa un valor4\n",
            "Ingresa un valor5\n",
            "Ingresa un valor1\n",
            "Ingresa un valor2\n",
            "Ingresa un valor3\n",
            "Ingresa un valor4\n",
            "Evaluacion terminada\n"
          ]
        }
      ]
    },
    {
      "cell_type": "markdown",
      "source": [
        "4 - Desarrolla un programa que lea un conjunto indefinido de temperaturas en grados Celsius y calcule su promedio. La lectura debe detenerse al ingresar el valor -273°C.\n",
        "\n"
      ],
      "metadata": {
        "id": "KPmfcmIPtCvh"
      }
    },
    {
      "cell_type": "code",
      "source": [
        "temp = float(input('Ingresa una temperatura en Celsius'))\n",
        "sum = 0\n",
        "intentos = 0\n",
        "while temp != -273:\n",
        "  sum += temp\n",
        "  intentos +=1\n",
        "  temp = float(input('Ingresa una temperatura en Celsius'))\n",
        "prom = sum / intentos\n",
        "print(f'el promedio de la temperatura es de {prom}')\n",
        "\n",
        "\n",
        "\n",
        "\n"
      ],
      "metadata": {
        "colab": {
          "base_uri": "https://localhost:8080/"
        },
        "id": "WR2cTmhrVI7T",
        "outputId": "7a5c2d1f-b2b3-4c57-9bc5-c9dad1c5395b"
      },
      "execution_count": null,
      "outputs": [
        {
          "output_type": "stream",
          "name": "stdout",
          "text": [
            "Ingresa una temperatura en Celsius12\n",
            "Ingresa una temperatura en Celsius14\n",
            "Ingresa una temperatura en Celsius20\n",
            "Ingresa una temperatura en Celsius31\n",
            "Ingresa una temperatura en Celsius200\n",
            "Ingresa una temperatura en Celsius-273\n",
            "el promedio de la temperatura es de 55.4\n"
          ]
        }
      ]
    },
    {
      "cell_type": "markdown",
      "source": [
        "5 - Escribe un programa que calcule el factorial de un número entero proporcionado por el usuario. Recuerda que el factorial de un número entero es el producto de ese número por todos sus antecesores hasta llegar al número 1. Por ejemplo, el factorial de 5 es 5 x 4 x 3 x 2 x 1 = 120.\n",
        "\n"
      ],
      "metadata": {
        "id": "4gWKGsYeVDoA"
      }
    },
    {
      "cell_type": "code",
      "source": [
        "num = int(input('Ingresa un numero positivo > '))\n",
        "f = 1\n",
        "i = num\n",
        "while i > 0:\n",
        "  f *= i\n",
        "  i -= 1\n",
        "\n",
        "print(f'El factorial de {num} es {f}')\n",
        "\n"
      ],
      "metadata": {
        "colab": {
          "base_uri": "https://localhost:8080/"
        },
        "id": "qjkQmGW_WqYZ",
        "outputId": "8bed1dc6-8e22-459f-a551-181c6fcb747b"
      },
      "execution_count": null,
      "outputs": [
        {
          "output_type": "stream",
          "name": "stdout",
          "text": [
            "Ingresa un numero positivo > 5\n",
            "El factorial de 5 es 120\n"
          ]
        }
      ]
    },
    {
      "cell_type": "markdown",
      "source": [
        "Momento de los proyectos\n",
        "\n",
        "6 - Escribe un programa que genere la tabla de multiplicar de un número entero del 1 al 10, según la elección del usuario. Como ejemplo, para el número 2, la tabla de multiplicar debe mostrarse en el siguiente formato:\n",
        "\n",
        "Tabla de multiplicar del 2:\n",
        "2 x 1 = 2\n",
        "2 x 2 = 4\n",
        "[...]\n",
        "2 x 10 = 20\n",
        "\n"
      ],
      "metadata": {
        "id": "rsCz91r9Wo-S"
      }
    },
    {
      "cell_type": "code",
      "source": [
        "print('Generador de Tablas d emultiplicar')\n",
        "num = int(input('Ingresa un valor para ver su tabla de multiplicacion'))\n",
        "i = 1\n",
        "while i < 11:\n",
        "  print(f'{i} x {num} = {i*num}')\n",
        "  i += 1"
      ],
      "metadata": {
        "colab": {
          "base_uri": "https://localhost:8080/"
        },
        "id": "9edLmDbEYi4G",
        "outputId": "43998c1a-446a-431f-a7b8-2b5a6924bfb2"
      },
      "execution_count": null,
      "outputs": [
        {
          "output_type": "stream",
          "name": "stdout",
          "text": [
            "Generador de Tablas d emultiplicar\n",
            "Ingresa un valor para ver su tabla de multiplicacion2\n",
            "1 x 2 = 2\n",
            "2 x 2 = 4\n",
            "3 x 2 = 6\n",
            "4 x 2 = 8\n",
            "5 x 2 = 10\n",
            "6 x 2 = 12\n",
            "7 x 2 = 14\n",
            "8 x 2 = 16\n",
            "9 x 2 = 18\n",
            "10 x 2 = 20\n"
          ]
        }
      ]
    },
    {
      "cell_type": "markdown",
      "source": [
        "7 - Los números primos tienen diversas aplicaciones en Ciencia de Datos, como en criptografía y seguridad. Un número primo es aquel que es divisible solo por sí mismo y por 1. Por lo tanto, crea un programa que solicite un número entero y determine si es un número primo o no.\n",
        "\n"
      ],
      "metadata": {
        "id": "QdJf0F9lYhKP"
      }
    },
    {
      "cell_type": "code",
      "source": [
        "n = int(input('Ingresa un numero mayor a 1 >'))\n",
        "\n",
        "raiz = int(n ** 0.5)+1\n",
        "primo = True\n",
        "\n",
        "for i in range(2,raiz):\n",
        "  if (n % i) == 0:\n",
        "    print('No es primo')\n",
        "    es_primo = False\n",
        "    break\n",
        "\n",
        "if primo:\n",
        "    print('Es primo')\n",
        "\n"
      ],
      "metadata": {
        "colab": {
          "base_uri": "https://localhost:8080/"
        },
        "id": "xKd_bhJxamBk",
        "outputId": "8a54562c-0d66-4cb8-af7a-7e91f3959086"
      },
      "execution_count": null,
      "outputs": [
        {
          "output_type": "stream",
          "name": "stdout",
          "text": [
            "Ingresa un numero mayor a 1 >5\n",
            "Es primo\n"
          ]
        }
      ]
    },
    {
      "cell_type": "markdown",
      "source": [
        "8 - Vamos a comprender la distribución de edades de los pensionistas de una empresa de seguros. Escribe un programa que lea las edades de una cantidad no informada de clientes y muestre la distribución en los intervalos [0-25], [26-50], [51-75] y [76-100]. La entrada de datos se detendrá al ingresar un número negativo.\n",
        "\n"
      ],
      "metadata": {
        "id": "c0IA2tn2ajJ0"
      }
    },
    {
      "cell_type": "code",
      "source": [
        "# Se inician los 4 contadores\n",
        "rango_025 = 0\n",
        "rango_2650 = 0\n",
        "rango_5175 = 0\n",
        "rango_76 = 0\n",
        "\n",
        "edad = int(input('Ingresa una edad: '))\n",
        "\n",
        "while edad >= 0:\n",
        "    if edad <= 25:\n",
        "        rango_025 += 1\n",
        "    elif edad <= 50:\n",
        "        rango_2650 += 1\n",
        "    elif edad <= 75:\n",
        "        rango_5175 += 1\n",
        "    else:\n",
        "        rango_76 += 1\n",
        "\n",
        "    # Se pide una nueva edad\n",
        "    edad = int(input('Ingresa una edad: (Ingresa un numero negativo para terminar) '))\n",
        "\n",
        "# Mostrar resultados fuera del ciclo\n",
        "print(f'La distribución es:')\n",
        "print(f'[0-25]: {rango_025}')\n",
        "print(f'[26-50]: {rango_2650}')\n",
        "print(f'[51-75]: {rango_5175}')\n",
        "print(f'[76+]: {rango_76}')"
      ],
      "metadata": {
        "colab": {
          "base_uri": "https://localhost:8080/"
        },
        "id": "N97UxmZ0wrjn",
        "outputId": "9fa90182-d2d1-4685-cd26-64d1931fc48a"
      },
      "execution_count": 2,
      "outputs": [
        {
          "output_type": "stream",
          "name": "stdout",
          "text": [
            "Ingresa una edad: 24\n",
            "Ingresa una edad: (Ingresa un numero negativo para terminar) 25\n",
            "Ingresa una edad: (Ingresa un numero negativo para terminar) 24\n",
            "Ingresa una edad: (Ingresa un numero negativo para terminar) -2\n",
            "La distribución es:\n",
            "[0-25]: 3\n",
            "[26-50]: 0\n",
            "[51-75]: 0\n",
            "[76+]: 0\n"
          ]
        }
      ]
    },
    {
      "cell_type": "markdown",
      "source": [
        " 9- En una elección para la gerencia de una empresa con 20 empleados, hay cuatro candidatos. Escribe un programa que calcule al ganador de la elección. La votación se realizó de la siguiente manera:\n",
        "\n",
        "Cada empleado votó por uno de los cuatro candidatos (representados por los números 1, 2, 3 y 4).\n",
        "\n",
        "También se contaron los votos nulos (representados por el número 5) y los votos en blanco (representados por el número 6).\n",
        "\n",
        "Al final de la votación, el programa debe mostrar el número total de votos para cada candidato, los votos nulos y los votos en blanco. Además, debe calcular y mostrar el porcentaje de votos nulos con respecto al total de votos y el porcentaje de votos en blanco con respecto al total de votos.\n",
        "\n",
        "Si necesitas ayuda, las soluciones a las actividades están disponibles en la sección \"Opinión del instructor\"."
      ],
      "metadata": {
        "id": "wdcMO19bwpKM"
      }
    },
    {
      "cell_type": "code",
      "source": [
        "# Se inician los 6 contadores\n",
        "ca1 = 0\n",
        "ca2 = 0\n",
        "ca3 = 0\n",
        "ca4 = 0\n",
        "nulos = 0\n",
        "blancos = 0\n",
        "votos = 0\n",
        "\n",
        "print(\"Opciones de voto:\")\n",
        "print(\"1 - Candidato 1\")\n",
        "print(\"2 - Candidato 2\")\n",
        "print(\"3 - Candidato 3\")\n",
        "print(\"4 - Candidato 4\")\n",
        "print(\"5 - Voto nulo\")\n",
        "print(\"6 - Voto en blanco\")\n",
        "\n",
        "while votos < 20:\n",
        "    try:\n",
        "        voto = int(input(f'\\nVoto #{votos + 1} - Ingresa tu voto (1-6): '))\n",
        "        if voto == 1:\n",
        "            ca1 += 1\n",
        "        elif voto == 2:\n",
        "            ca2 += 1\n",
        "        elif voto == 3:\n",
        "            ca3 += 1\n",
        "        elif voto == 4:\n",
        "            ca4 += 1\n",
        "        elif voto == 5:\n",
        "            nulos += 1\n",
        "        elif voto == 6:\n",
        "            blancos += 1\n",
        "        else:\n",
        "            print(\" Opción inválida. Debe ser un número del 1 al 6.\")\n",
        "            continue  # no cuenta como voto válido\n",
        "        votos += 1\n",
        "    except ValueError:\n",
        "        print(\" Entrada inválida. Ingresa solo números.\")\n",
        "\n",
        "# Mostrar resultados\n",
        "print(f'\\n Resultados finales:')\n",
        "print(f'Candidato 1: {ca1} votos ({(ca1/20)*100:.1f}%)')\n",
        "print(f'Candidato 2: {ca2} votos ({(ca2/20)*100:.1f}%)')\n",
        "print(f'Candidato 3: {ca3} votos ({(ca3/20)*100:.1f}%)')\n",
        "print(f'Candidato 4: {ca4} votos ({(ca4/20)*100:.1f}%)')\n",
        "print(f'Votos nulos: {nulos} ({(nulos/20)*100:.1f}%)')\n",
        "print(f'Votos en blanco: {blancos} ({(blancos/20)*100:.1f}%)')"
      ],
      "metadata": {
        "colab": {
          "base_uri": "https://localhost:8080/"
        },
        "id": "s-Xqxete0mqW",
        "outputId": "4aa58ab0-e4f3-4389-fe18-21dc56326917"
      },
      "execution_count": 3,
      "outputs": [
        {
          "output_type": "stream",
          "name": "stdout",
          "text": [
            "Opciones de voto:\n",
            "1 - Candidato 1\n",
            "2 - Candidato 2\n",
            "3 - Candidato 3\n",
            "4 - Candidato 4\n",
            "5 - Voto nulo\n",
            "6 - Voto en blanco\n",
            "\n",
            "Voto #1 - Ingresa tu voto (1-6): 1\n",
            "\n",
            "Voto #2 - Ingresa tu voto (1-6): 2\n",
            "\n",
            "Voto #3 - Ingresa tu voto (1-6): 3\n",
            "\n",
            "Voto #4 - Ingresa tu voto (1-6): 4\n",
            "\n",
            "Voto #5 - Ingresa tu voto (1-6): 5\n",
            "\n",
            "Voto #6 - Ingresa tu voto (1-6): 6\n",
            "\n",
            "Voto #7 - Ingresa tu voto (1-6): 7\n",
            "⚠️ Opción inválida. Debe ser un número del 1 al 6.\n",
            "\n",
            "Voto #7 - Ingresa tu voto (1-6): 1\n",
            "\n",
            "Voto #8 - Ingresa tu voto (1-6): 2\n",
            "\n",
            "Voto #9 - Ingresa tu voto (1-6): 3\n",
            "\n",
            "Voto #10 - Ingresa tu voto (1-6): 4\n",
            "\n",
            "Voto #11 - Ingresa tu voto (1-6): 5\n",
            "\n",
            "Voto #12 - Ingresa tu voto (1-6): 6\n",
            "\n",
            "Voto #13 - Ingresa tu voto (1-6): 7\n",
            "⚠️ Opción inválida. Debe ser un número del 1 al 6.\n",
            "\n",
            "Voto #13 - Ingresa tu voto (1-6): 1\n",
            "\n",
            "Voto #14 - Ingresa tu voto (1-6): 2\n",
            "\n",
            "Voto #15 - Ingresa tu voto (1-6): 1\n",
            "\n",
            "Voto #16 - Ingresa tu voto (1-6): 2\n",
            "\n",
            "Voto #17 - Ingresa tu voto (1-6): 4\n",
            "\n",
            "Voto #18 - Ingresa tu voto (1-6): 3\n",
            "\n",
            "Voto #19 - Ingresa tu voto (1-6): 5\n",
            "\n",
            "Voto #20 - Ingresa tu voto (1-6): 4\n",
            "\n",
            "🗳️ Resultados finales:\n",
            "Candidato 1: 4 votos (20.0%)\n",
            "Candidato 2: 4 votos (20.0%)\n",
            "Candidato 3: 3 votos (15.0%)\n",
            "Candidato 4: 4 votos (20.0%)\n",
            "Votos nulos: 3 (15.0%)\n",
            "Votos en blanco: 2 (10.0%)\n"
          ]
        }
      ]
    },
    {
      "cell_type": "code",
      "source": [],
      "metadata": {
        "id": "uLoLBkvIW-BT"
      },
      "execution_count": null,
      "outputs": []
    }
  ]
}