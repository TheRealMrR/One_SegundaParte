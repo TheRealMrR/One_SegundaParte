{
  "nbformat": 4,
  "nbformat_minor": 0,
  "metadata": {
    "colab": {
      "provenance": [],
      "authorship_tag": "ABX9TyOljjhMVkPqlYb6JAAXKW6A",
      "include_colab_link": true
    },
    "kernelspec": {
      "name": "python3",
      "display_name": "Python 3"
    },
    "language_info": {
      "name": "python"
    }
  },
  "cells": [
    {
      "cell_type": "markdown",
      "metadata": {
        "id": "view-in-github",
        "colab_type": "text"
      },
      "source": [
        "<a href=\"https://colab.research.google.com/github/TheRealMrR/One_SegundaParte/blob/main/Desafio_1.ipynb\" target=\"_parent\"><img src=\"https://colab.research.google.com/assets/colab-badge.svg\" alt=\"Open In Colab\"/></a>"
      ]
    },
    {
      "cell_type": "markdown",
      "source": [
        "#Recopilación y muestra de datos\n",
        "\n",
        "1.  Crea un programa que solicite al usuario que escriba su nombre y luego imprima \"Hola, [nombre].\"\n",
        "\n",
        "\n"
      ],
      "metadata": {
        "id": "c5n1C4zB0rGt"
      }
    },
    {
      "cell_type": "code",
      "source": [
        "nombre = input('Ingresa tu nombre:')\n",
        "print(f'Hola {nombre}')"
      ],
      "metadata": {
        "colab": {
          "base_uri": "https://localhost:8080/"
        },
        "id": "naZWOyus1jn1",
        "outputId": "c322b2c5-18d2-46d3-cc9a-772403fb5756"
      },
      "execution_count": null,
      "outputs": [
        {
          "output_type": "stream",
          "name": "stdout",
          "text": [
            "Ingresa tu nombre:Robot\n",
            "Hola Robot\n"
          ]
        }
      ]
    },
    {
      "cell_type": "markdown",
      "source": [
        "2. Crea un programa que solicite al usuario que escriba su nombre y edad, y luego imprima \"Hola, [nombre], tienes [edad] años.\"\n"
      ],
      "metadata": {
        "id": "n-cv18Km1YPf"
      }
    },
    {
      "cell_type": "code",
      "source": [
        "nombre = input('Ingresa tu nombre:')\n",
        "edad = input('Ingresa tu edad')\n",
        "print(f'Hola {nombre}, tienes {edad} ayos')"
      ],
      "metadata": {
        "colab": {
          "base_uri": "https://localhost:8080/"
        },
        "id": "DgB36FHc1kTQ",
        "outputId": "529769b3-c4b9-4c3e-ff9f-013a2ae12629"
      },
      "execution_count": null,
      "outputs": [
        {
          "output_type": "stream",
          "name": "stdout",
          "text": [
            "Ingresa tu nombre:roboto\n",
            "Ingresa tu edad32\n",
            "Hola roboto, tienes 32 ayos\n"
          ]
        }
      ]
    },
    {
      "cell_type": "markdown",
      "source": [
        "\n",
        "3.  Crea un programa que solicite al usuario que escriba su nombre, edad y altura en metros, y luego imprima \"Hola, [nombre], tienes [edad] años y mides [altura] metros.\""
      ],
      "metadata": {
        "id": "SbYpNz3H1ZOy"
      }
    },
    {
      "cell_type": "code",
      "source": [
        "nombre = input('Ingresa tu nombre:')\n",
        "edad = input('Ingresa tu edad:')\n",
        "altura = input('Ingresa tu altura en metros:')\n",
        "print(f'Hola {nombre}, tienes {edad} ayos, y mides {altura}')"
      ],
      "metadata": {
        "colab": {
          "base_uri": "https://localhost:8080/"
        },
        "id": "jeW2G0lY1k5M",
        "outputId": "1a421d6a-df98-4c7b-fcad-0c8633f3c9f8"
      },
      "execution_count": null,
      "outputs": [
        {
          "output_type": "stream",
          "name": "stdout",
          "text": [
            "Ingresa tu nombre:Robot\n",
            "Ingresa tu edad:32\n",
            "Ingresa tu altura en metros:1.8\n",
            "Hola Robot, tienes 32 ayos, y mides 1.8\n"
          ]
        }
      ]
    },
    {
      "cell_type": "markdown",
      "source": [
        "\n",
        "#Calculadora con operadores\n",
        "\n",
        "4.  Crea un programa que solicite dos valores numéricos al usuario y luego imprima la suma de ambos valores.\n",
        "\n"
      ],
      "metadata": {
        "id": "pBYlozU21OZM"
      }
    },
    {
      "cell_type": "code",
      "source": [
        "print('Ingresa el valor de dos numeros para poder sumarlos')\n",
        "valor_uno = float(input('Primer valor: '))\n",
        "valor_dos = float(input('Segundo valor: '))\n",
        "print('el resultado de la suma es:', valor_uno + valor_dos)"
      ],
      "metadata": {
        "colab": {
          "base_uri": "https://localhost:8080/"
        },
        "id": "nlxkn0_e3hdf",
        "outputId": "2888690b-0eda-43db-a030-1bb87e7a3426"
      },
      "execution_count": null,
      "outputs": [
        {
          "output_type": "stream",
          "name": "stdout",
          "text": [
            "Ingresa el valor de dos numeros para poder restarlos\n",
            "Primer valor: 8\n",
            "Segundo valor: 6\n",
            "el resultado de la resta es: 2.0\n"
          ]
        }
      ]
    },
    {
      "cell_type": "markdown",
      "source": [
        "5.  Crea un programa que solicite tres valores numéricos al usuario y luego imprima la suma de los tres valores.\n",
        "\n",
        "\n"
      ],
      "metadata": {
        "id": "dGp9-r1F3OUz"
      }
    },
    {
      "cell_type": "code",
      "source": [
        "print('Ingresa el valor de dos numeros para poder sumarlos')\n",
        "valor_uno = float(input('Primer valor: '))\n",
        "valor_dos = float(input('Segundo valor: '))\n",
        "valor_tres = float(input('Tercer valor: '))\n",
        "print('el resultado de la suma es:', valor_uno+valor_dos+valor_tres)"
      ],
      "metadata": {
        "colab": {
          "base_uri": "https://localhost:8080/"
        },
        "id": "3Zu0kiWQ3jmU",
        "outputId": "6bcf1a93-c21a-47c7-d8ad-79da98367b4f"
      },
      "execution_count": null,
      "outputs": [
        {
          "output_type": "stream",
          "name": "stdout",
          "text": [
            "Ingresa el valor de dos numeros para poder sumarlos\n",
            "Primer valor: 1\n",
            "Segundo valor: 2\n",
            "Tercer valor: 3\n",
            "el resultado se la suma es: 6.0\n"
          ]
        }
      ]
    },
    {
      "cell_type": "markdown",
      "source": [
        "6. Crea un programa que solicite dos valores numéricos al usuario y luego imprima la resta del primero menos el segundo valor.\n",
        "\n"
      ],
      "metadata": {
        "id": "QQkFL35L3S-0"
      }
    },
    {
      "cell_type": "code",
      "source": [
        "print('Ingresa el valor de dos numeros para poder restarlos')\n",
        "valor_uno = float(input('Primer valor: '))\n",
        "valor_dos = float(input('Segundo valor: '))\n",
        "print('el resultado de la resta es:', valor_uno - valor_dos)"
      ],
      "metadata": {
        "colab": {
          "base_uri": "https://localhost:8080/"
        },
        "id": "PWMnStz03kNJ",
        "outputId": "2b94fa75-55e3-436e-f5fa-be8fa5228180"
      },
      "execution_count": null,
      "outputs": [
        {
          "output_type": "stream",
          "name": "stdout",
          "text": [
            "Ingresa el valor de dos numeros para poder restarlos\n",
            "Primer valor: 6\n",
            "Segundo valor: 8\n",
            "el resultado de la resta es: -2.0\n"
          ]
        }
      ]
    },
    {
      "cell_type": "markdown",
      "source": [
        "7. Crea un programa que solicite dos valores numéricos al usuario y luego imprima la multiplicación de los dos valores.\n",
        "\n"
      ],
      "metadata": {
        "id": "MCfJ3PTs3Vam"
      }
    },
    {
      "cell_type": "code",
      "source": [
        "print('Ingresa el valor de dos numeros para poder multiplicarlos')\n",
        "valor_uno = float(input('Primer valor: '))\n",
        "valor_dos = float(input('Segundo valor: '))\n",
        "print('el resultado de la multiplicacion es:', valor_uno * valor_dos)"
      ],
      "metadata": {
        "colab": {
          "base_uri": "https://localhost:8080/"
        },
        "id": "ubk8z6aS3lQ0",
        "outputId": "b0c1b343-7e1b-41d8-b440-94c2c4ac29f0"
      },
      "execution_count": null,
      "outputs": [
        {
          "output_type": "stream",
          "name": "stdout",
          "text": [
            "Ingresa el valor de dos numeros para poder multiplicarlos\n",
            "Primer valor: 2\n",
            "Segundo valor: 1\n",
            "el resultado de la resta es: 2.0\n"
          ]
        }
      ]
    },
    {
      "cell_type": "markdown",
      "source": [
        "8. Crea un programa que solicite dos valores numéricos, un numerador y un denominador, y realice la división entre los dos valores. Asegúrate de que el valor del denominador no sea igual a 0.\n",
        "\n"
      ],
      "metadata": {
        "id": "mDT2qO6m3W5e"
      }
    },
    {
      "cell_type": "code",
      "source": [
        "print('Ingresa el valor de dos numeros para poder dividirlos')\n",
        "valor_uno = float(input('numerador: '))\n",
        "valor_dos = float(input('Denominador: '))\n",
        "while valor_dos == 0:\n",
        "    print(\"Error: el denominador no puede ser cero.\")\n",
        "    valor_dos = int(input('Ingrese nuevamente el denominador: '))\n",
        "print('el resultado de la division es:', valor_uno / valor_dos)"
      ],
      "metadata": {
        "colab": {
          "base_uri": "https://localhost:8080/"
        },
        "id": "IYaC57GP3l6b",
        "outputId": "b3fdd49d-8ef4-4a84-b41b-77e31fe933f8"
      },
      "execution_count": null,
      "outputs": [
        {
          "output_type": "stream",
          "name": "stdout",
          "text": [
            "Ingresa el valor de dos numeros para poder dividirlos\n",
            "numerador: 4\n",
            "Denominador: 0\n",
            "Error: el denominador no puede ser cero.\n",
            "Ingrese nuevamente el denominador: 12\n",
            "el resultado de la division es: 0.3333333333333333\n"
          ]
        }
      ]
    },
    {
      "cell_type": "markdown",
      "source": [
        "9. Crea un programa que solicite dos valores numéricos, un operador y una potencia, y realice la exponenciación entre estos dos valores.\n",
        "\n"
      ],
      "metadata": {
        "id": "x28MPvPI3Yv_"
      }
    },
    {
      "cell_type": "code",
      "source": [
        "print('Ingresa el valor de un numero y su potencia')\n",
        "valor_uno = float(input('Numero: '))\n",
        "valor_dos = float(input('Potencia: '))\n",
        "print('el resultado es:', valor_uno ** valor_dos)"
      ],
      "metadata": {
        "colab": {
          "base_uri": "https://localhost:8080/"
        },
        "id": "n00oLtW43mis",
        "outputId": "8bb25dea-0c99-4ae1-a4c7-3c795b8b5452"
      },
      "execution_count": null,
      "outputs": [
        {
          "output_type": "stream",
          "name": "stdout",
          "text": [
            "Ingresa el valor de un numero y su potencia\n",
            "Numero: 2\n",
            "Potencia: 3\n",
            "el resultado es: 8.0\n"
          ]
        }
      ]
    },
    {
      "cell_type": "markdown",
      "source": [
        "10.  Crea un programa que solicite dos valores numéricos, un numerador y un denominador, y realice la división entera entre los dos valores. Asegúrate de que el valor del denominador no sea igual a 0.\n",
        "\n"
      ],
      "metadata": {
        "id": "dkLPKtln3ame"
      }
    },
    {
      "cell_type": "code",
      "source": [
        "print('Ingresa el valor de dos numeros para poder dividirlos')\n",
        "valor_uno = float(input('numerador: '))\n",
        "valor_dos = float(input('Denominador: '))\n",
        "while valor_dos == 0:\n",
        "    print(\"Error: el denominador no puede ser cero.\")\n",
        "    valor_dos = int(input('Ingrese nuevamente el denominador: '))\n",
        "print('el resultado de la division es:', valor_uno / valor_dos)"
      ],
      "metadata": {
        "id": "RfzZyn1M3nIl"
      },
      "execution_count": null,
      "outputs": []
    },
    {
      "cell_type": "markdown",
      "source": [
        "11.  Crea un programa que solicite dos valores numéricos, un numerador y un denominador, y devuelva el resto de la división entre los dos valores. Asegúrate de que el valor del denominador no sea igual a 0.\n",
        "\n"
      ],
      "metadata": {
        "id": "ZDzR3j9C3b1f"
      }
    },
    {
      "cell_type": "code",
      "source": [
        "print('Ingresa el valor de dos numeros para hacer la division y obtener el modulo')\n",
        "valor_uno = float(input('numerador: '))\n",
        "valor_dos = float(input('Denominador: '))\n",
        "while valor_dos == 0:\n",
        "    print(\"Error: el denominador no puede ser cero.\")\n",
        "    valor_dos = int(input('Ingrese nuevamente el denominador: '))\n",
        "print('el resultado de la division es:', valor_uno % valor_dos)"
      ],
      "metadata": {
        "id": "TZzewBG83nvT"
      },
      "execution_count": null,
      "outputs": []
    },
    {
      "cell_type": "markdown",
      "source": [
        "12. Crea un código que solicite las 3 notas de un estudiante e imprima el promedio de las notas.\n",
        "\n"
      ],
      "metadata": {
        "id": "f7y51GZR3dCz"
      }
    },
    {
      "cell_type": "code",
      "source": [
        "print('Ingresa 3 notas que obtuvieras para optener el promedio')\n",
        "nota_uno= float(input('Nota uno: '))\n",
        "nota_dos = float(input('Nota dos: '))\n",
        "nota_tres = float(input('Nota tres: '))\n",
        "print('tu promedio es:', (nota_uno+nota_dos+nota_tres )/ 3)"
      ],
      "metadata": {
        "colab": {
          "base_uri": "https://localhost:8080/"
        },
        "id": "ZUsOHa1r3oeF",
        "outputId": "c0e8f1a9-082a-4227-c383-d44a7d3199dd"
      },
      "execution_count": null,
      "outputs": [
        {
          "output_type": "stream",
          "name": "stdout",
          "text": [
            "Ingresa 3 notas que obtuvieras para optener el promedio\n",
            "Nota uno: 5\n",
            "Nota dos: 8\n",
            "Nota tres: 9\n",
            "tu promedio es: 7.333333333333333\n"
          ]
        }
      ]
    },
    {
      "cell_type": "markdown",
      "source": [
        "13. Crea un código que calcule e imprima el promedio ponderado de los números 5, 12, 20 y 15 con pesos respectivamente iguales a 1, 2, 3 y 4."
      ],
      "metadata": {
        "id": "d2SDirwe3eLh"
      }
    },
    {
      "cell_type": "code",
      "source": [
        "media_ponderada = (5*1 + 12*2 + 20*3 + 15*4) / (1+2+3+4)\n",
        "print(f'Media {media_ponderada}.')"
      ],
      "metadata": {
        "id": "9cJQxWHd3o_0"
      },
      "execution_count": null,
      "outputs": []
    },
    {
      "cell_type": "markdown",
      "source": [
        "\n",
        "#Editando textos\n",
        "\n",
        "14. Crea una variable llamada \"frase\" y asígnale una cadena de texto de tu elección. Luego, imprime la frase en pantalla.\n",
        "\n"
      ],
      "metadata": {
        "id": "ps0driti1Sou"
      }
    },
    {
      "cell_type": "code",
      "source": [
        "frase = 'Creer que algo es real hace que sea real.'\n",
        "print(frase)"
      ],
      "metadata": {
        "colab": {
          "base_uri": "https://localhost:8080/"
        },
        "id": "j8hDn8Ml1D3U",
        "outputId": "1b0c7cba-9eec-4ec5-baaa-9d0404848e2e"
      },
      "execution_count": null,
      "outputs": [
        {
          "output_type": "stream",
          "name": "stdout",
          "text": [
            "Creer que algo es real hace que sea real.\n"
          ]
        }
      ]
    },
    {
      "cell_type": "markdown",
      "source": [
        "15.  Crea un código que solicite una frase y luego imprima la frase en pantalla.\n",
        "\n"
      ],
      "metadata": {
        "id": "dIS8gc2-0o08"
      }
    },
    {
      "cell_type": "code",
      "source": [
        "frase = input('Ingresa una frase')\n",
        "print(f'excelente eleccion de frase:  {frase}')"
      ],
      "metadata": {
        "colab": {
          "base_uri": "https://localhost:8080/"
        },
        "id": "SRVmbHw_1crg",
        "outputId": "6d61d575-3b7b-464a-f9b0-43d77acb6b78"
      },
      "execution_count": null,
      "outputs": [
        {
          "output_type": "stream",
          "name": "stdout",
          "text": [
            "Ingresa una fraseCreer que algo es real hace que sea real.\n",
            "excelente eleccion de frase: Creer que algo es real hace que sea real.\n"
          ]
        }
      ]
    },
    {
      "cell_type": "markdown",
      "source": [
        "16.  Crea un código que solicite una frase al usuario y luego imprima la misma frase ingresada pero en mayúsculas.\n",
        "\n"
      ],
      "metadata": {
        "id": "CQH_xABr0vvi"
      }
    },
    {
      "cell_type": "code",
      "source": [
        "frase = input('Ingresa una frase')\n",
        "print(f'excelente eleccion de frase: {frase.upper()}')"
      ],
      "metadata": {
        "colab": {
          "base_uri": "https://localhost:8080/"
        },
        "id": "JFTqgm2X1zAF",
        "outputId": "c52b8018-c5ef-4e98-c206-ec876376e5a2"
      },
      "execution_count": null,
      "outputs": [
        {
          "output_type": "stream",
          "name": "stdout",
          "text": [
            "Ingresa una frasefrase = input('Ingresa una frase') print(f'excelente eleccion de frase: {frase}')\n",
            "excelente eleccion de frase: FRASE = INPUT('INGRESA UNA FRASE') PRINT(F'EXCELENTE ELECCION DE FRASE: {FRASE}')\n"
          ]
        }
      ]
    },
    {
      "cell_type": "markdown",
      "source": [
        "17. Crea un código que solicite una frase al usuario y luego imprima la misma frase ingresada pero en minúsculas.\n",
        "\n"
      ],
      "metadata": {
        "id": "f-VK0fsj01ab"
      }
    },
    {
      "cell_type": "code",
      "source": [
        "frase = input('Ingresa una frase')\n",
        "print(f'excelente eleccion de frase: {frase.lower()}')"
      ],
      "metadata": {
        "colab": {
          "base_uri": "https://localhost:8080/"
        },
        "id": "JLS_BxwC1_SO",
        "outputId": "620e7a1d-7393-4403-baf9-cd66558427c0"
      },
      "execution_count": null,
      "outputs": [
        {
          "output_type": "stream",
          "name": "stdout",
          "text": [
            "Ingresa una fraseTOMA AGUA\n",
            "excelente eleccion de frase: toma agua\n"
          ]
        }
      ]
    },
    {
      "cell_type": "markdown",
      "source": [
        "18. Crea una variable llamada \"frase\" y asígnale una cadena de texto de tu elección. Luego, imprime la frase sin espacios en blanco al principio y al final.\n"
      ],
      "metadata": {
        "id": "vbhNxDdS038H"
      }
    },
    {
      "cell_type": "code",
      "source": [
        "frase = '   Creer que algo es real hace que sea real. '\n",
        "print(f'excelente eleccion de frase:{frase.strip()}')"
      ],
      "metadata": {
        "colab": {
          "base_uri": "https://localhost:8080/"
        },
        "id": "nMbC1-jgNoLZ",
        "outputId": "f58cceb1-b27d-4b32-f433-5865c48ef9e7"
      },
      "execution_count": 3,
      "outputs": [
        {
          "output_type": "stream",
          "name": "stdout",
          "text": [
            "excelente eleccion de frase:creer que algo es real hace que sea real.\n"
          ]
        }
      ]
    },
    {
      "cell_type": "markdown",
      "source": [
        "\n",
        "19. Crea un código que solicite una frase al usuario y luego imprima la misma frase sin espacios en blanco al principio y al final.\n",
        "\n"
      ],
      "metadata": {
        "id": "yCSwGGHd04DP"
      }
    },
    {
      "cell_type": "code",
      "source": [
        "frase = input('Ingresa una frase')\n",
        "print(f'excelente eleccion de frase:{frase.strip()}')"
      ],
      "metadata": {
        "id": "Lsb-d2VXOfDi"
      },
      "execution_count": null,
      "outputs": []
    },
    {
      "cell_type": "markdown",
      "source": [
        "20. Crea un código que solicite una frase al usuario y luego imprima la misma frase sin espacios en blanco al principio y al final, además de convertirla a minúsculas.\n",
        "\n"
      ],
      "metadata": {
        "id": "HaQ08K-q09mK"
      }
    },
    {
      "cell_type": "code",
      "source": [
        "frase = input('Ingresa una frase')\n",
        "print(f'excelente eleccion de frase:{frase.strip().lower()}')"
      ],
      "metadata": {
        "id": "whqSd9-FOtAN"
      },
      "execution_count": null,
      "outputs": []
    },
    {
      "cell_type": "markdown",
      "source": [
        "21. Crea un código que solicite una frase al usuario y luego imprima la misma frase con todas las vocales \"e\" reemplazadas por la letra \"f\".\n",
        "\n"
      ],
      "metadata": {
        "id": "seRBXa6T0_Sx"
      }
    },
    {
      "cell_type": "code",
      "source": [
        "frase = input('Ingresa una frase')\n",
        "print(f'excelente eleccion de frase:{frase.replace(\"e\",\"i\")}')"
      ],
      "metadata": {
        "colab": {
          "base_uri": "https://localhost:8080/"
        },
        "id": "ispkFlQEOxVc",
        "outputId": "0fd9a4c6-a100-417b-c352-4b3a01170da5"
      },
      "execution_count": 6,
      "outputs": [
        {
          "output_type": "stream",
          "name": "stdout",
          "text": [
            "Ingresa una fraseCreer que algo es real hace que sea real.\n",
            "excelente eleccion de frase:Criir qui algo is rial haci qui sia rial.\n"
          ]
        }
      ]
    },
    {
      "cell_type": "markdown",
      "source": [
        "22. Crea un código que solicite una frase al usuario y luego imprima la misma frase con todas las vocales \"a\" reemplazadas por el carácter \"@\".\n",
        "\n"
      ],
      "metadata": {
        "id": "spov9njX1A4Y"
      }
    },
    {
      "cell_type": "code",
      "source": [
        "frase = input('Ingresa una frase')\n",
        "print(f'excelente eleccion de frase:{frase.replace(\"a\",\"@\")}')"
      ],
      "metadata": {
        "colab": {
          "base_uri": "https://localhost:8080/"
        },
        "id": "SuvmK3qDPYpR",
        "outputId": "3441926a-ac1d-491c-b0b9-1403266baad6"
      },
      "execution_count": 8,
      "outputs": [
        {
          "output_type": "stream",
          "name": "stdout",
          "text": [
            "Ingresa una fraseCreer que algo es real hace que sea real. '\n",
            "excelente eleccion de frase:Creer que @lgo es re@l h@ce que se@ re@l. '\n"
          ]
        }
      ]
    },
    {
      "cell_type": "markdown",
      "source": [
        "23. Crea un código que solicite una frase al usuario y luego imprima la misma frase con todas las consonantes \"s\" reemplazadas por el carácter \"$\"."
      ],
      "metadata": {
        "id": "Tm-_0CkH1CYO"
      }
    },
    {
      "cell_type": "code",
      "source": [
        "frase = input('Ingresa una frase')\n",
        "print(f'excelente eleccion de frase:{frase.replace(\"s\",\"$\")}')"
      ],
      "metadata": {
        "id": "Rkrhi4rh1IFf",
        "colab": {
          "base_uri": "https://localhost:8080/",
          "height": 318
        },
        "outputId": "add0245b-a7ea-4323-92fa-116bcf29c2b1"
      },
      "execution_count": 9,
      "outputs": [
        {
          "output_type": "error",
          "ename": "KeyboardInterrupt",
          "evalue": "Interrupted by user",
          "traceback": [
            "\u001b[0;31m---------------------------------------------------------------------------\u001b[0m",
            "\u001b[0;31mKeyboardInterrupt\u001b[0m                         Traceback (most recent call last)",
            "\u001b[0;32m<ipython-input-9-a6f029880159>\u001b[0m in \u001b[0;36m<cell line: 0>\u001b[0;34m()\u001b[0m\n\u001b[0;32m----> 1\u001b[0;31m \u001b[0mfrase\u001b[0m \u001b[0;34m=\u001b[0m \u001b[0minput\u001b[0m\u001b[0;34m(\u001b[0m\u001b[0;34m'Ingresa una frase'\u001b[0m\u001b[0;34m)\u001b[0m\u001b[0;34m\u001b[0m\u001b[0;34m\u001b[0m\u001b[0m\n\u001b[0m\u001b[1;32m      2\u001b[0m \u001b[0mprint\u001b[0m\u001b[0;34m(\u001b[0m\u001b[0;34mf'excelente eleccion de frase:{frase.replace(\"s\",\"$\")}'\u001b[0m\u001b[0;34m)\u001b[0m\u001b[0;34m\u001b[0m\u001b[0;34m\u001b[0m\u001b[0m\n",
            "\u001b[0;32m/usr/local/lib/python3.11/dist-packages/ipykernel/kernelbase.py\u001b[0m in \u001b[0;36mraw_input\u001b[0;34m(self, prompt)\u001b[0m\n\u001b[1;32m   1175\u001b[0m                 \u001b[0;34m\"raw_input was called, but this frontend does not support input requests.\"\u001b[0m\u001b[0;34m\u001b[0m\u001b[0;34m\u001b[0m\u001b[0m\n\u001b[1;32m   1176\u001b[0m             )\n\u001b[0;32m-> 1177\u001b[0;31m         return self._input_request(\n\u001b[0m\u001b[1;32m   1178\u001b[0m             \u001b[0mstr\u001b[0m\u001b[0;34m(\u001b[0m\u001b[0mprompt\u001b[0m\u001b[0;34m)\u001b[0m\u001b[0;34m,\u001b[0m\u001b[0;34m\u001b[0m\u001b[0;34m\u001b[0m\u001b[0m\n\u001b[1;32m   1179\u001b[0m             \u001b[0mself\u001b[0m\u001b[0;34m.\u001b[0m\u001b[0m_parent_ident\u001b[0m\u001b[0;34m[\u001b[0m\u001b[0;34m\"shell\"\u001b[0m\u001b[0;34m]\u001b[0m\u001b[0;34m,\u001b[0m\u001b[0;34m\u001b[0m\u001b[0;34m\u001b[0m\u001b[0m\n",
            "\u001b[0;32m/usr/local/lib/python3.11/dist-packages/ipykernel/kernelbase.py\u001b[0m in \u001b[0;36m_input_request\u001b[0;34m(self, prompt, ident, parent, password)\u001b[0m\n\u001b[1;32m   1217\u001b[0m             \u001b[0;32mexcept\u001b[0m \u001b[0mKeyboardInterrupt\u001b[0m\u001b[0;34m:\u001b[0m\u001b[0;34m\u001b[0m\u001b[0;34m\u001b[0m\u001b[0m\n\u001b[1;32m   1218\u001b[0m                 \u001b[0;31m# re-raise KeyboardInterrupt, to truncate traceback\u001b[0m\u001b[0;34m\u001b[0m\u001b[0;34m\u001b[0m\u001b[0m\n\u001b[0;32m-> 1219\u001b[0;31m                 \u001b[0;32mraise\u001b[0m \u001b[0mKeyboardInterrupt\u001b[0m\u001b[0;34m(\u001b[0m\u001b[0;34m\"Interrupted by user\"\u001b[0m\u001b[0;34m)\u001b[0m \u001b[0;32mfrom\u001b[0m \u001b[0;32mNone\u001b[0m\u001b[0;34m\u001b[0m\u001b[0;34m\u001b[0m\u001b[0m\n\u001b[0m\u001b[1;32m   1220\u001b[0m             \u001b[0;32mexcept\u001b[0m \u001b[0mException\u001b[0m\u001b[0;34m:\u001b[0m\u001b[0;34m\u001b[0m\u001b[0;34m\u001b[0m\u001b[0m\n\u001b[1;32m   1221\u001b[0m                 \u001b[0mself\u001b[0m\u001b[0;34m.\u001b[0m\u001b[0mlog\u001b[0m\u001b[0;34m.\u001b[0m\u001b[0mwarning\u001b[0m\u001b[0;34m(\u001b[0m\u001b[0;34m\"Invalid Message:\"\u001b[0m\u001b[0;34m,\u001b[0m \u001b[0mexc_info\u001b[0m\u001b[0;34m=\u001b[0m\u001b[0;32mTrue\u001b[0m\u001b[0;34m)\u001b[0m\u001b[0;34m\u001b[0m\u001b[0;34m\u001b[0m\u001b[0m\n",
            "\u001b[0;31mKeyboardInterrupt\u001b[0m: Interrupted by user"
          ]
        }
      ]
    },
    {
      "cell_type": "code",
      "execution_count": null,
      "metadata": {
        "id": "zdTySpbfykDb"
      },
      "outputs": [],
      "source": []
    }
  ]
}