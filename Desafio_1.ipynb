{
  "nbformat": 4,
  "nbformat_minor": 0,
  "metadata": {
    "colab": {
      "provenance": [],
      "authorship_tag": "ABX9TyNJcjdi6Hc4eySAT304l+vj",
      "include_colab_link": true
    },
    "kernelspec": {
      "name": "python3",
      "display_name": "Python 3"
    },
    "language_info": {
      "name": "python"
    }
  },
  "cells": [
    {
      "cell_type": "markdown",
      "metadata": {
        "id": "view-in-github",
        "colab_type": "text"
      },
      "source": [
        "<a href=\"https://colab.research.google.com/github/TheRealMrR/One_SegundaParte/blob/main/Desafio_1.ipynb\" target=\"_parent\"><img src=\"https://colab.research.google.com/assets/colab-badge.svg\" alt=\"Open In Colab\"/></a>"
      ]
    },
    {
      "cell_type": "markdown",
      "source": [
        "#Recopilación y muestra de datos\n",
        "\n",
        "1.  Crea un programa que solicite al usuario que escriba su nombre y luego imprima \"Hola, [nombre].\"\n",
        "\n",
        "\n"
      ],
      "metadata": {
        "id": "c5n1C4zB0rGt"
      }
    },
    {
      "cell_type": "code",
      "source": [
        "nombre = input('Ingresa tu nombre:')\n",
        "print(f'Hola {nombre}')"
      ],
      "metadata": {
        "colab": {
          "base_uri": "https://localhost:8080/"
        },
        "id": "naZWOyus1jn1",
        "outputId": "c322b2c5-18d2-46d3-cc9a-772403fb5756"
      },
      "execution_count": 1,
      "outputs": [
        {
          "output_type": "stream",
          "name": "stdout",
          "text": [
            "Ingresa tu nombre:Robot\n",
            "Hola Robot\n"
          ]
        }
      ]
    },
    {
      "cell_type": "markdown",
      "source": [
        "2. Crea un programa que solicite al usuario que escriba su nombre y edad, y luego imprima \"Hola, [nombre], tienes [edad] años.\"\n"
      ],
      "metadata": {
        "id": "n-cv18Km1YPf"
      }
    },
    {
      "cell_type": "code",
      "source": [
        "nombre = input('Ingresa tu nombre:')\n",
        "edad = input('Ingresa tu edad')\n",
        "print(f'Hola {nombre}, tienes {edad} ayos')"
      ],
      "metadata": {
        "colab": {
          "base_uri": "https://localhost:8080/"
        },
        "id": "DgB36FHc1kTQ",
        "outputId": "529769b3-c4b9-4c3e-ff9f-013a2ae12629"
      },
      "execution_count": 3,
      "outputs": [
        {
          "output_type": "stream",
          "name": "stdout",
          "text": [
            "Ingresa tu nombre:roboto\n",
            "Ingresa tu edad32\n",
            "Hola roboto, tienes 32 ayos\n"
          ]
        }
      ]
    },
    {
      "cell_type": "markdown",
      "source": [
        "\n",
        "3.  Crea un programa que solicite al usuario que escriba su nombre, edad y altura en metros, y luego imprima \"Hola, [nombre], tienes [edad] años y mides [altura] metros.\""
      ],
      "metadata": {
        "id": "SbYpNz3H1ZOy"
      }
    },
    {
      "cell_type": "code",
      "source": [
        "nombre = input('Ingresa tu nombre:')\n",
        "edad = input('Ingresa tu edad:')\n",
        "altura = input('Ingresa tu altura en metros:')\n",
        "print(f'Hola {nombre}, tienes {edad} ayos, y mides {altura}')"
      ],
      "metadata": {
        "colab": {
          "base_uri": "https://localhost:8080/"
        },
        "id": "jeW2G0lY1k5M",
        "outputId": "1a421d6a-df98-4c7b-fcad-0c8633f3c9f8"
      },
      "execution_count": 4,
      "outputs": [
        {
          "output_type": "stream",
          "name": "stdout",
          "text": [
            "Ingresa tu nombre:Robot\n",
            "Ingresa tu edad:32\n",
            "Ingresa tu altura en metros:1.8\n",
            "Hola Robot, tienes 32 ayos, y mides 1.8\n"
          ]
        }
      ]
    },
    {
      "cell_type": "markdown",
      "source": [
        "\n",
        "#Calculadora con operadores\n",
        "\n",
        "4.  Crea un programa que solicite dos valores numéricos al usuario y luego imprima la suma de ambos valores.\n",
        "\n"
      ],
      "metadata": {
        "id": "pBYlozU21OZM"
      }
    },
    {
      "cell_type": "code",
      "source": [
        "print('Ingresa el valor de dos numeros para poder sumarlos')\n",
        "valor_uno = float(input('Primer valor: '))\n",
        "valor_dos = float(input('Segundo valor: '))\n",
        "print('el resultado de la suma es:', valor_uno+valor_dos)"
      ],
      "metadata": {
        "colab": {
          "base_uri": "https://localhost:8080/"
        },
        "id": "nlxkn0_e3hdf",
        "outputId": "5acb3dbb-cf92-4141-82c8-e69bc63df677"
      },
      "execution_count": 6,
      "outputs": [
        {
          "output_type": "stream",
          "name": "stdout",
          "text": [
            "Ingresa el valor de dos numeros para poder sumarlos\n",
            "Primer valor: 3\n",
            "Segundo valor: 5\n",
            "el resultado se la suma es: 8.0\n"
          ]
        }
      ]
    },
    {
      "cell_type": "markdown",
      "source": [
        "5.  Crea un programa que solicite tres valores numéricos al usuario y luego imprima la suma de los tres valores.\n",
        "\n",
        "\n"
      ],
      "metadata": {
        "id": "dGp9-r1F3OUz"
      }
    },
    {
      "cell_type": "code",
      "source": [
        "print('Ingresa el valor de dos numeros para poder sumarlos')\n",
        "valor_uno = float(input('Primer valor: '))\n",
        "valor_dos = float(input('Segundo valor: '))\n",
        "valor_tres = float(input('Tercer valor: '))\n",
        "print('el resultado de la suma es:', valor_uno+valor_dos+valor_tres)"
      ],
      "metadata": {
        "colab": {
          "base_uri": "https://localhost:8080/"
        },
        "id": "3Zu0kiWQ3jmU",
        "outputId": "6bcf1a93-c21a-47c7-d8ad-79da98367b4f"
      },
      "execution_count": 7,
      "outputs": [
        {
          "output_type": "stream",
          "name": "stdout",
          "text": [
            "Ingresa el valor de dos numeros para poder sumarlos\n",
            "Primer valor: 1\n",
            "Segundo valor: 2\n",
            "Tercer valor: 3\n",
            "el resultado se la suma es: 6.0\n"
          ]
        }
      ]
    },
    {
      "cell_type": "markdown",
      "source": [
        "6. Crea un programa que solicite dos valores numéricos al usuario y luego imprima la resta del primero menos el segundo valor.\n",
        "\n"
      ],
      "metadata": {
        "id": "QQkFL35L3S-0"
      }
    },
    {
      "cell_type": "code",
      "source": [],
      "metadata": {
        "id": "PWMnStz03kNJ"
      },
      "execution_count": null,
      "outputs": []
    },
    {
      "cell_type": "markdown",
      "source": [
        "7. Crea un programa que solicite dos valores numéricos al usuario y luego imprima la multiplicación de los dos valores.\n",
        "\n"
      ],
      "metadata": {
        "id": "MCfJ3PTs3Vam"
      }
    },
    {
      "cell_type": "code",
      "source": [],
      "metadata": {
        "id": "ubk8z6aS3lQ0"
      },
      "execution_count": null,
      "outputs": []
    },
    {
      "cell_type": "markdown",
      "source": [
        "8. Crea un programa que solicite dos valores numéricos, un numerador y un denominador, y realice la división entre los dos valores. Asegúrate de que el valor del denominador no sea igual a 0.\n",
        "\n"
      ],
      "metadata": {
        "id": "mDT2qO6m3W5e"
      }
    },
    {
      "cell_type": "code",
      "source": [],
      "metadata": {
        "id": "IYaC57GP3l6b"
      },
      "execution_count": null,
      "outputs": []
    },
    {
      "cell_type": "markdown",
      "source": [
        "9. Crea un programa que solicite dos valores numéricos, un operador y una potencia, y realice la exponenciación entre estos dos valores.\n",
        "\n"
      ],
      "metadata": {
        "id": "x28MPvPI3Yv_"
      }
    },
    {
      "cell_type": "code",
      "source": [],
      "metadata": {
        "id": "n00oLtW43mis"
      },
      "execution_count": null,
      "outputs": []
    },
    {
      "cell_type": "markdown",
      "source": [
        "10.  Crea un programa que solicite dos valores numéricos, un numerador y un denominador, y realice la división entera entre los dos valores. Asegúrate de que el valor del denominador no sea igual a 0.\n",
        "\n"
      ],
      "metadata": {
        "id": "dkLPKtln3ame"
      }
    },
    {
      "cell_type": "code",
      "source": [],
      "metadata": {
        "id": "RfzZyn1M3nIl"
      },
      "execution_count": null,
      "outputs": []
    },
    {
      "cell_type": "markdown",
      "source": [
        "11.  Crea un programa que solicite dos valores numéricos, un numerador y un denominador, y devuelva el resto de la división entre los dos valores. Asegúrate de que el valor del denominador no sea igual a 0.\n",
        "\n"
      ],
      "metadata": {
        "id": "ZDzR3j9C3b1f"
      }
    },
    {
      "cell_type": "code",
      "source": [],
      "metadata": {
        "id": "TZzewBG83nvT"
      },
      "execution_count": null,
      "outputs": []
    },
    {
      "cell_type": "markdown",
      "source": [
        "12. Crea un código que solicite las 3 notas de un estudiante e imprima el promedio de las notas.\n",
        "\n"
      ],
      "metadata": {
        "id": "f7y51GZR3dCz"
      }
    },
    {
      "cell_type": "code",
      "source": [],
      "metadata": {
        "id": "ZUsOHa1r3oeF"
      },
      "execution_count": null,
      "outputs": []
    },
    {
      "cell_type": "markdown",
      "source": [
        "13. Crea un código que calcule e imprima el promedio ponderado de los números 5, 12, 20 y 15 con pesos respectivamente iguales a 1, 2, 3 y 4."
      ],
      "metadata": {
        "id": "d2SDirwe3eLh"
      }
    },
    {
      "cell_type": "code",
      "source": [],
      "metadata": {
        "id": "9cJQxWHd3o_0"
      },
      "execution_count": null,
      "outputs": []
    },
    {
      "cell_type": "markdown",
      "source": [
        "\n",
        "#Editando textos\n",
        "\n",
        "14. Crea una variable llamada \"frase\" y asígnale una cadena de texto de tu elección. Luego, imprime la frase en pantalla.\n",
        "\n",
        "15.  Crea un código que solicite una frase y luego imprima la frase en pantalla.\n",
        "\n",
        "16.  Crea un código que solicite una frase al usuario y luego imprima la misma frase ingresada pero en mayúsculas.\n",
        "\n",
        "17. Crea un código que solicite una frase al usuario y luego imprima la misma frase ingresada pero en minúsculas.\n",
        "\n",
        "18. Crea una variable llamada \"frase\" y asígnale una cadena de texto de tu elección. Luego, imprime la frase sin espacios en blanco al principio y al final.\n",
        "\n",
        "19. Crea un código que solicite una frase al usuario y luego imprima la misma frase sin espacios en blanco al principio y al final.\n",
        "\n",
        "20. Crea un código que solicite una frase al usuario y luego imprima la misma frase sin espacios en blanco al principio y al final, además de convertirla a minúsculas.\n",
        "\n",
        "21. Crea un código que solicite una frase al usuario y luego imprima la misma frase con todas las vocales \"e\" reemplazadas por la letra \"f\".\n",
        "\n",
        "22. Crea un código que solicite una frase al usuario y luego imprima la misma frase con todas las vocales \"a\" reemplazadas por el carácter \"@\".\n",
        "\n",
        "23. Crea un código que solicite una frase al usuario y luego imprima la misma frase con todas las consonantes \"s\" reemplazadas por el carácter \"$\"."
      ],
      "metadata": {
        "id": "ps0driti1Sou"
      }
    },
    {
      "cell_type": "code",
      "source": [],
      "metadata": {
        "id": "Rkrhi4rh1IFf"
      },
      "execution_count": null,
      "outputs": []
    },
    {
      "cell_type": "code",
      "execution_count": null,
      "metadata": {
        "id": "zdTySpbfykDb"
      },
      "outputs": [],
      "source": []
    }
  ]
}