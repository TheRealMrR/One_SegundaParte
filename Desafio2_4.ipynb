{
  "nbformat": 4,
  "nbformat_minor": 0,
  "metadata": {
    "colab": {
      "provenance": [],
      "authorship_tag": "ABX9TyOtME1TxkOt6NqBpqAwnSah",
      "include_colab_link": true
    },
    "kernelspec": {
      "name": "python3",
      "display_name": "Python 3"
    },
    "language_info": {
      "name": "python"
    }
  },
  "cells": [
    {
      "cell_type": "markdown",
      "metadata": {
        "id": "view-in-github",
        "colab_type": "text"
      },
      "source": [
        "<a href=\"https://colab.research.google.com/github/TheRealMrR/One_SegundaParte/blob/main/Desafio2_4.ipynb\" target=\"_parent\"><img src=\"https://colab.research.google.com/assets/colab-badge.svg\" alt=\"Open In Colab\"/></a>"
      ]
    },
    {
      "cell_type": "markdown",
      "source": [
        "Calentamiento\n",
        "\n",
        "1 - Haz un programa que solicite a la persona usuaria ingresar dos números decimales y calcular la división entre estos números. El código debe incluir un manejo de error, indicando el tipo de error que se generó si la división no es posible.\n",
        "\n",
        "Prueba el programa con el segundo valor numérico de la entrada igual a 0. También prueba usando caracteres textuales en la entrada para verificar los tipos de errores que ocurren."
      ],
      "metadata": {
        "id": "usCZb6q8-f9q"
      }
    },
    {
      "cell_type": "code",
      "execution_count": 9,
      "metadata": {
        "id": "0LRw8meuruTn",
        "colab": {
          "base_uri": "https://localhost:8080/"
        },
        "outputId": "a3e21915-6ea9-4bbe-f1eb-cf3eb5452b48"
      },
      "outputs": [
        {
          "output_type": "stream",
          "name": "stdout",
          "text": [
            "Ingresa el primer valor para la divisiona\n",
            "Solo caracteres numericos,could not convert string to float: 'a' no es numerico\n",
            "la consulta ha terminado\n"
          ]
        }
      ],
      "source": [
        "\n",
        "try:\n",
        "  a = float(input('Ingresa el primer valor para la division'))\n",
        "  b = float(input('Ingresa el segundo valor para la division'))\n",
        "  resultado = a/b\n",
        "  resultado\n",
        "\n",
        "except ValueError as e:\n",
        "  print(f'Solo caracteres numericos,{e} no es numerico')\n",
        "except ZeroDivisionError:\n",
        "    print(\"Error: No se puede dividir por cero.\")\n",
        "else:\n",
        "  print(f'El resultado es: {round(resultado,2)}')\n",
        "finally:\n",
        "  print('la consulta ha terminado')\n",
        "\n"
      ]
    },
    {
      "cell_type": "markdown",
      "source": [
        "2 - Haz un programa que solicite a la persona usuaria ingresar un texto que será una clave a buscar en el siguiente diccionario: edades = {'Júlia': 16, 'Carol': 23, 'Alberto': 19, 'Roberta': 17}, almacenando el resultado del valor en una variable. El código debe incluir un manejo de error KeyError, imprimiendo la información 'Nombre no encontrado' en caso de error, e imprimir el valor si no ocurre ninguno.\n",
        "\n",
        "Prueba el programa con un nombre presente en una de las claves del diccionario y con uno que no esté en el diccionario para verificar el mensaje de error."
      ],
      "metadata": {
        "id": "brAINGyIbQrJ"
      }
    },
    {
      "cell_type": "code",
      "source": [
        "edades = {'Júlia': 16, 'Carol': 23, 'Alberto': 19, 'Roberta': 17}\n",
        "\n",
        "consulta = input('Ingresa un nombre para buscra su info: ').capitalize()\n",
        "\n",
        "try:\n",
        "  if consulta in edades:\n",
        "    print(f'Edad de  {consulta}, es: {edades[consulta]}')\n",
        "except KeyError:\n",
        "  print('Nombre no encontrado.')\n",
        "finally:\n",
        "  print('la consulta ha terminado')\n",
        "\n"
      ],
      "metadata": {
        "colab": {
          "base_uri": "https://localhost:8080/"
        },
        "id": "sAT3bJfpbSUE",
        "outputId": "ce247b3d-d17a-4b47-ede0-cbf36d718eb7"
      },
      "execution_count": 17,
      "outputs": [
        {
          "output_type": "stream",
          "name": "stdout",
          "text": [
            "Ingresa un nombre para buscra su info: juan\n",
            "la consulta ha terminado\n"
          ]
        }
      ]
    },
    {
      "cell_type": "markdown",
      "source": [
        "3 - Crea una función que reciba una lista como parámetro y convierta todos los valores de la lista a flotantes. La función debe incluir un manejo de error indicando el tipo de error generado y devolver la lista si no ha ocurrido ningún error. Por último, debe tener la cláusula finally para imprimir el texto: 'Fin de la ejecución de la función'."
      ],
      "metadata": {
        "id": "Fx1HOOMpeiUQ"
      }
    },
    {
      "cell_type": "code",
      "source": [
        "\n",
        "numeros= ['4.5', '2.3', '7.8', '1.2']\n",
        "floti = []\n",
        "def flotantes(lista):\n",
        "  try:\n",
        "    for i in range(len(lista)):\n",
        "      floti.append(float(lista[i]))\n",
        "  except ValueError as x:\n",
        "    print(f'El caracter {x}, no es un numero convertible a flotante')\n",
        "  else:\n",
        "    print('Esta es la lista de flotantes')\n",
        "    return floti\n",
        "flotantes(numeros)\n"
      ],
      "metadata": {
        "colab": {
          "base_uri": "https://localhost:8080/"
        },
        "id": "3ABxwB6eei52",
        "outputId": "5f071c89-303c-4b72-8054-b6543dd53694"
      },
      "execution_count": 5,
      "outputs": [
        {
          "output_type": "stream",
          "name": "stdout",
          "text": [
            "todo bien\n"
          ]
        },
        {
          "output_type": "execute_result",
          "data": {
            "text/plain": [
              "[4.5, 2.3, 7.8, 1.2]"
            ]
          },
          "metadata": {},
          "execution_count": 5
        }
      ]
    },
    {
      "cell_type": "markdown",
      "source": [
        "4 - Crea una función que reciba dos listas como parámetros y agrupe los elementos uno a uno de las listas, formando una lista de tuplas de 3 elementos. El primer y segundo elemento de la tupla son los valores en la posición i de las listas y el tercer elemento es la suma de los valores en la posición i de las listas.\n",
        "\n",
        "La función debe incluir un manejo de error indicando el tipo de error generado y devolver como resultado la lista de tuplas. Si las listas enviadas como parámetro tienen tamaños diferentes, la función debe devolver un IndexError con la frase: 'La cantidad de elementos en cada lista es diferente.'.\n",
        "\n",
        "Datos para probar la función:\n",
        "\n",
        "Valores sin error:\n",
        "\n",
        "lista1 = [4, 6, 7, 9, 10]\n",
        "lista2 = [-4, 6, 8, 7, 9]"
      ],
      "metadata": {
        "id": "nqRyZfFO_xX3"
      }
    },
    {
      "cell_type": "code",
      "source": [
        "l1 = [4, 6, 7, 1, 10]\n",
        "l2 = [-4, 6,8,8, 11]\n",
        "\n",
        "def listadetuplas(lista1,lista2):\n",
        "  resultado = []\n",
        "  try:\n",
        "    if len(lista1) == len (lista2):\n",
        "        resultado=[(lista1[i],lista2[i],lista1[i]+lista2[i]) for i in range(len(lista1))]\n",
        "        print(resultado)\n",
        "    else:\n",
        "      print('Las listas no tienen el mismo numero de elementos')\n",
        "\n",
        "  except TypeError as e:\n",
        "    print('No puedes sumar algo que no es un numero')\n",
        "  finally:\n",
        "    if not resultado:\n",
        "      print('La lista de tuplas está vacía')\n",
        "    print('Proceso concluido')\n",
        "  return\n",
        "\n",
        "listadetuplas(l1,l2)\n"
      ],
      "metadata": {
        "colab": {
          "base_uri": "https://localhost:8080/"
        },
        "id": "2ACgYZep_zGr",
        "outputId": "dde92e26-fe2e-4963-a853-4a85f4976d6d"
      },
      "execution_count": 15,
      "outputs": [
        {
          "output_type": "stream",
          "name": "stdout",
          "text": [
            "[(4, -4, 0), (6, 6, 12), (7, 8, 15), (1, 8, 9), (10, 11, 21)]\n",
            "Proceso concluido\n"
          ]
        }
      ]
    },
    {
      "cell_type": "markdown",
      "source": [
        "5 - Como desafío, se te ha asignado la tarea de desarrollar un código que contabiliza las puntuaciones de estudiantes de una institución educativa de acuerdo con sus respuestas en una prueba. Este código debe ser probado para un ejemplo de 3 estudiantes con una lista de listas en la que cada lista tiene las respuestas de 5 preguntas objetivas de cada estudiante. Cada pregunta vale un punto y las alternativas posibles son A, B, C o D.\n",
        "\n",
        "Si alguna alternativa en una de las pruebas no está entre las alternativas posibles, debes lanzar un ValueError con el mensaje \"La alternativa [alternativa] no es una opción de alternativa válida\". El cálculo de las 3 notas solo se realizará mediante las entradas con las alternativas A, B, C o D en todas las pruebas. Si no se lanza la excepción, se mostrará una lista con las notas en cada prueba.\n",
        "\n",
        "Datos para la prueba del código:\n",
        "\n",
        "Respuestas de la prueba:"
      ],
      "metadata": {
        "id": "o1hBQAJrePqo"
      }
    },
    {
      "cell_type": "code",
      "source": [
        "correctas = ['D', 'A', 'B', 'C', 'A']\n",
        "respuestas = [['D', 'A', 'B', 'C','2','a'], ['C', 'A', 'A', 'E', 'A'], ['D', 'B', 'A', 'C', 'A']]\n",
        "\n",
        "def evaluarexamen(claves, answers):\n",
        "    for idx, alumno in enumerate(answers, start=1):\n",
        "        if len(alumno) != len(claves):\n",
        "            print(f'Alumno {idx}: Error - debe tener {len(claves)} respuestas.')\n",
        "            continue\n",
        "        conteo = 0\n",
        "        for i in range(len(claves)):\n",
        "            if alumno[i] == claves[i]:\n",
        "                conteo += 1\n",
        "        print(f'Alumno {idx}, tiene: {conteo} respuestas buenas.')\n",
        "\n",
        "evaluarexamen(correctas, respuestas)\n",
        "\n",
        "\n",
        "\n",
        "\n",
        "\n",
        "\n",
        "\n"
      ],
      "metadata": {
        "colab": {
          "base_uri": "https://localhost:8080/"
        },
        "id": "0hl0KgbEeRb3",
        "outputId": "210d1ac4-7541-46ea-cabe-b9cbc7ec9c46"
      },
      "execution_count": 22,
      "outputs": [
        {
          "output_type": "stream",
          "name": "stdout",
          "text": [
            "Alumno 1: error - debe tener 5 respuestas.\n",
            "Alumno 2, tiene: 2 respuestas buenas.\n",
            "Alumno 3, tiene: 3 respuestas buenas.\n"
          ]
        }
      ]
    },
    {
      "cell_type": "markdown",
      "source": [
        "6 - Estás trabajando con procesamiento de lenguaje natural (NLP) y, en esta ocasión, tu líder te pidió que crees un fragmento de código que reciba una lista con las palabras separadas de una frase generada por ChatGPT.\n",
        "\n",
        "Necesitas crear una función que evalúe cada palabra de este texto y verifique si el tratamiento para quitar los símbolos de puntuación (',', '.', '!' y '?') se realizó. De lo contrario, se lanzará una excepción del tipo ValueError señalando el primer caso en que se detectó el uso de una puntuación a través de la frase \"El texto presenta puntuaciones en la palabra \"[palabra]\"\". Esta solicitud se centra en el análisis del patrón de frases generadas por la inteligencia artificial.\n",
        "\n",
        "Datos para probar el código:\n",
        "\n",
        "\n",
        "lista_tratada = ['Python', 'es', 'un', 'lenguaje', 'de', 'programación', 'poderoso', 'versátil',\n",
        "                  'y', 'fácil', 'de', 'aprender', 'utilizado', 'en', 'diversos', 'campos', 'desde',\n",
        "                  'análisis', 'de', 'datos', 'hasta', 'inteligencia', 'artificial']\n"
      ],
      "metadata": {
        "id": "k9MSnMzhI-Lo"
      }
    },
    {
      "cell_type": "code",
      "source": [
        "lista_texto= ['Python', 'es', 'un', 'lenguaje', 'de', 'programación', 'poderoso,', 'versátil',\n",
        "                  'y', 'fácil,', 'de', 'aprender', 'utilizado', 'en', 'diversos', 'campos,', 'desde',\n",
        "                  'análisis', 'de', 'datos', 'hasta', 'inteligencia', 'artificial!']\n",
        "import string\n",
        "#Funcion para eliminar puntuacion\n",
        "def puntos(texto):\n",
        "  signos = '¡¿'\n",
        "  #Se agregan los signos de admiracion e interrogacion en espanol\n",
        "  todos_los_signos = string.punctuation + signos\n",
        "  #Se crea una tabla que contiene todos los signos\n",
        "  tabla = str.maketrans('', '', todos_los_signos)\n",
        "  #Se eliminan los signos por cada palabra\n",
        "  texto = [palabra.translate(tabla) for palabra in texto]\n",
        "  return texto\n",
        "\n",
        "#funcion para evaluar si se eliminaron los puntos\n",
        "def deletepuntos(texto):\n",
        "  try:\n",
        "    signos = '¡¿'\n",
        "    #Se agregan los signos de admiracion e interrogacion en espanol\n",
        "    todos_los_signos = string.punctuation + signos\n",
        "    for palabra in texto:\n",
        "      if any (caracter in palabra for caracter in todos_los_signos):\n",
        "        raise ValueError(f\"El texto presenta puntuaciones en la palabra '{palabra}'.\")\n",
        "  except ValueError as e:\n",
        "      print(f\"Error: {e}\")\n",
        "\n",
        "\n"
      ],
      "metadata": {
        "colab": {
          "base_uri": "https://localhost:8080/"
        },
        "id": "KqUS2SEMdTwm",
        "outputId": "f6bcd6a2-5610-4c74-a6b4-21e98afe0669"
      },
      "execution_count": 9,
      "outputs": [
        {
          "output_type": "execute_result",
          "data": {
            "text/plain": [
              "['Python',\n",
              " 'es',\n",
              " 'un',\n",
              " 'lenguaje',\n",
              " 'de',\n",
              " 'programación',\n",
              " 'poderoso',\n",
              " 'versátil',\n",
              " 'y',\n",
              " 'fácil',\n",
              " 'de',\n",
              " 'aprender',\n",
              " 'utilizado',\n",
              " 'en',\n",
              " 'diversos',\n",
              " 'campos',\n",
              " 'desde',\n",
              " 'análisis',\n",
              " 'de',\n",
              " 'datos',\n",
              " 'hasta',\n",
              " 'inteligencia',\n",
              " 'artificial']"
            ]
          },
          "metadata": {},
          "execution_count": 9
        }
      ]
    },
    {
      "cell_type": "markdown",
      "source": [],
      "metadata": {
        "id": "XQ1ZVVxhi6p_"
      }
    }
  ]
}