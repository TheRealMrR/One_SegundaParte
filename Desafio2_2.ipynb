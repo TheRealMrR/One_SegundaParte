{
  "nbformat": 4,
  "nbformat_minor": 0,
  "metadata": {
    "colab": {
      "provenance": [],
      "authorship_tag": "ABX9TyO1PTLKYCTSiD+ZzPDgRSEi",
      "include_colab_link": true
    },
    "kernelspec": {
      "name": "python3",
      "display_name": "Python 3"
    },
    "language_info": {
      "name": "python"
    }
  },
  "cells": [
    {
      "cell_type": "markdown",
      "metadata": {
        "id": "view-in-github",
        "colab_type": "text"
      },
      "source": [
        "<a href=\"https://colab.research.google.com/github/TheRealMrR/One_SegundaParte/blob/main/Desafio2_2.ipynb\" target=\"_parent\"><img src=\"https://colab.research.google.com/assets/colab-badge.svg\" alt=\"Open In Colab\"/></a>"
      ]
    },
    {
      "cell_type": "markdown",
      "source": [
        " Vamos a practicar lo que hemos aprendido hasta ahora resolviendo los problemas propuestos en código.\n",
        "\n",
        "Calentamiento\n",
        "\n",
        "1 - Escribe un código que lee la lista siguiente y realiza:\n",
        "\n",
        "lista = [16, 14, 63, 65, 17, 99, 70, 11, 20, 48, 79, 32, 17, 89, 12, 25, 66]\n",
        " 1. Leer el tamaño de la lista\n",
        " 2. Leer el valor máximo y mínimo\n",
        " 3. Calcular la suma de los valores de la lista\n",
        " 4. Mostrar un mensaje al final: La lista tiene `tamano` números, donde el mayor\n",
        " es `mayor` y el menor es `menor`. La suma de los valores es `suma`.\n"
      ],
      "metadata": {
        "id": "CDKbeeOW7u66"
      }
    },
    {
      "cell_type": "code",
      "source": [
        "lista = [16, 14, 63, 65, 17, 99, 70, 11, 20, 48, 79, 32, 17, 89, 12, 25, 66]\n",
        "print(f'La lista tiene:{len(lista) }numeros, donde el mayor numero es: {max(lista)}, y el menor:{min(lista)}')\n",
        "print(f'La suma de los valores es{sum(lista)}')"
      ],
      "metadata": {
        "colab": {
          "base_uri": "https://localhost:8080/"
        },
        "id": "1Pqo8Rjv73A1",
        "outputId": "4f346a1e-90fd-4071-aac3-a8632f82089e"
      },
      "execution_count": null,
      "outputs": [
        {
          "output_type": "stream",
          "name": "stdout",
          "text": [
            "La lista tiene:17numeros, donde el mayor numero es: 99, y el menor:11\n",
            "La suma de los valores es743\n"
          ]
        }
      ]
    },
    {
      "cell_type": "markdown",
      "source": [
        "Escribe una función que genere la tabla de multiplicar de un número entero del 1 al 10, según la elección del usuario. Como ejemplo, para el número 7, la tabla de multiplicar se debe mostrar en el siguiente formato:"
      ],
      "metadata": {
        "id": "MBINPDpd87jB"
      }
    },
    {
      "cell_type": "code",
      "source": [
        "#Funcion para crear una tabla con las multiplicaciones dle 0 al 10 de un numero\n",
        "def  tabla(x):\n",
        "  for i in range(11):\n",
        "    print(f'{x} x {i} = {i*x}' )\n",
        "\n",
        "\n"
      ],
      "metadata": {
        "id": "FnhtbKfP88ZJ"
      },
      "execution_count": null,
      "outputs": []
    },
    {
      "cell_type": "code",
      "source": [
        "tabla(7)"
      ],
      "metadata": {
        "colab": {
          "base_uri": "https://localhost:8080/"
        },
        "id": "yHWTD3Nm9nTn",
        "outputId": "50ea85c4-6500-4c59-fb71-a345d67abac9"
      },
      "execution_count": null,
      "outputs": [
        {
          "output_type": "stream",
          "name": "stdout",
          "text": [
            "0 x 7 = 0\n",
            "1 x 7 = 7\n",
            "2 x 7 = 14\n",
            "3 x 7 = 21\n",
            "4 x 7 = 28\n",
            "5 x 7 = 35\n",
            "6 x 7 = 42\n",
            "7 x 7 = 49\n",
            "8 x 7 = 56\n",
            "9 x 7 = 63\n",
            "10 x 7 = 70\n"
          ]
        }
      ]
    },
    {
      "cell_type": "markdown",
      "source": [
        "3 - Crea una función que lea la siguiente lista y devuelva una nueva lista con los múltiplos de 3:"
      ],
      "metadata": {
        "id": "xWCfDhcW91IS"
      }
    },
    {
      "cell_type": "code",
      "source": [
        "num = [97, 80, 94, 88, 80, 1, 16, 53, 62, 32, 24, 99]\n",
        "multiplos = []\n",
        "#Esta solucion propone un cliclo for que evalua cada num en la\n",
        "#lista y si su modulo entre 3 es 0 es multiplo y lo guarda en una nueva lista\n",
        "\n",
        "for i in num:\n",
        "  if (i % 3 ) == 0:\n",
        "    multiplos.append(i)\n",
        "print(multiplos)\n",
        "\n"
      ],
      "metadata": {
        "colab": {
          "base_uri": "https://localhost:8080/"
        },
        "id": "qU_-9UVx9-KK",
        "outputId": "10a16225-008b-4e55-ece3-e07dd8d59366"
      },
      "execution_count": null,
      "outputs": [
        {
          "output_type": "stream",
          "name": "stdout",
          "text": [
            "[24, 99]\n",
            "[24, 99]\n"
          ]
        }
      ]
    },
    {
      "cell_type": "code",
      "source": [
        "#Ahora agregamos todo a una funcion\n",
        "def multiplos3 (x):\n",
        "  for i in x:\n",
        "    if (i % 3 ) == 0:\n",
        "      multiplos.append(i)\n",
        "print(multiplos)"
      ],
      "metadata": {
        "id": "lam3VNf1_Pkx"
      },
      "execution_count": null,
      "outputs": []
    },
    {
      "cell_type": "code",
      "source": [
        "#Reduciomos la funcion , el ciclo for esta dentro del return\n",
        "def multiplos3(lista):\n",
        "    return [num for num in lista if num % 3 == 0]\n",
        "\n",
        "#Asignamos el resultado de la funcion a una variable\n",
        "mult_3 = multiplos3(num)\n",
        "print(mult_3)"
      ],
      "metadata": {
        "colab": {
          "base_uri": "https://localhost:8080/"
        },
        "id": "1mtwGWxH_N2b",
        "outputId": "c5748979-f261-417c-b29b-bebc604ad522"
      },
      "execution_count": null,
      "outputs": [
        {
          "output_type": "stream",
          "name": "stdout",
          "text": [
            "[24, 99]\n"
          ]
        }
      ]
    },
    {
      "cell_type": "markdown",
      "source": [
        "4 - Crea una lista de los cuadrados de los números de la siguiente lista [1, 2, 3, 4, 5, 6, 7, 8, 9, 10]. Recuerda utilizar las funciones lambda y map() para calcular el cuadrado de cada elemento de la lista."
      ],
      "metadata": {
        "id": "3WqPj88-_xXf"
      }
    },
    {
      "cell_type": "code",
      "source": [
        "lista4 = [1, 2, 3, 4, 5, 6, 7, 8, 9, 10]\n",
        "\n",
        "cuadrados = list(map(lambda y: y ** 2,lista4))\n",
        "\n",
        "print(cuadrados)"
      ],
      "metadata": {
        "colab": {
          "base_uri": "https://localhost:8080/"
        },
        "id": "93cTNt-6_yJr",
        "outputId": "138da4a9-6798-494e-ba4d-b8d000b928d7"
      },
      "execution_count": null,
      "outputs": [
        {
          "output_type": "stream",
          "name": "stdout",
          "text": [
            "[1, 4, 9, 16, 25, 36, 49, 64, 81, 100]\n"
          ]
        }
      ]
    },
    {
      "cell_type": "markdown",
      "source": [
        "Aplicando a proyectos\n",
        "\n",
        "5 - Has sido contratado como científico(a) de datos de una asociación de skate. Para analizar las notas recibidas por los skaters en algunas competiciones a lo largo del año, necesitas crear un código que calcule la puntuación de los atletas. Para ello, tu código debe recibir 5 notas ingresadas por los jueces."
      ],
      "metadata": {
        "id": "MVSJmvgeIa7N"
      }
    },
    {
      "cell_type": "code",
      "source": [
        "notas =[]\n",
        "for i in range(5):\n",
        "  notas.append( float(input(f'Ingresa la nota Juez {i+1} :')))\n",
        "\n",
        "print(f'El competidor tuvo una nota total de:{sum(notas)}')"
      ],
      "metadata": {
        "colab": {
          "base_uri": "https://localhost:8080/"
        },
        "id": "gYY7qJFwIapH",
        "outputId": "766fd361-752a-49ee-9a3b-8c67898a3eb9"
      },
      "execution_count": null,
      "outputs": [
        {
          "output_type": "stream",
          "name": "stdout",
          "text": [
            "Ingresa la nota Juez 1 :5\n",
            "Ingresa la nota Juez 2 :7\n",
            "Ingresa la nota Juez 3 :8\n",
            "Ingresa la nota Juez 4 :9\n",
            "Ingresa la nota Juez 5 :12\n",
            "El competidor tuvo una nota total de:41.0\n"
          ]
        }
      ]
    },
    {
      "cell_type": "markdown",
      "source": [
        "6 - Para cumplir con una demanda de una institución educativa para el análisis del rendimiento de sus estudiantes, necesitas crear una función que reciba una lista de 4 notas y devuelva:\n",
        "* mayor nota\n",
        "* menor nota\n",
        "* media\n",
        "* situación (Aprobado(a) o Reprobado(a))\n",
        "* Uso de la función\n",
        "Mostrar: El estudiante obtuvo una media de `media`, con la mayor nota de `mayor` puntos y la menor nota de `menor` puntos y fue `situacion`.)\n"
      ],
      "metadata": {
        "id": "VX7oLOOQKssG"
      }
    },
    {
      "cell_type": "code",
      "source": [
        "#Funcion principal evalua una lista de n numeros para determinar max, minimo medio asi como la situacion\n",
        "#del estudiante\n",
        "def rendimiento(lista):\n",
        "  x = max(lista)\n",
        "  y = min(lista)\n",
        "  z = sum(lista) / len(lista)\n",
        "  if z <= 6:\n",
        "    situacion = 'Reprobado'\n",
        "  else:\n",
        "    situacion = 'Aprobado'\n",
        "  return( x,y,z,situacion)\n",
        "\n",
        "#Iniciamos en blanco la lista de notas\n",
        "notas =[]\n",
        "#Preguntamos al usuario el total de notas a ingresar\n",
        "n = int(input('Cuantas notas desea evaluar?'))\n",
        "#Usamos el ciclo for para agregar cada repuesta a una lista\n",
        "for i in range(n):\n",
        "  notas.append( float(input(f'Ingresa la nota  N{i+1} :')))\n",
        "\n",
        "#Guardamos los valores devueltos por la funcion en una variable\n",
        "resultado = rendimiento(notas)\n",
        "print(f'El maximo es {resultado[0]}, el minimo es {resultado[1]}, la media es {resultado[2]}, y su situacion :{resultado[3]}')\n"
      ],
      "metadata": {
        "colab": {
          "base_uri": "https://localhost:8080/"
        },
        "id": "sRMTngFmKwZs",
        "outputId": "d964153f-8979-4b0e-e3ea-01f6e2dad787"
      },
      "execution_count": null,
      "outputs": [
        {
          "output_type": "stream",
          "name": "stdout",
          "text": [
            "Cuantas notas desea evaluar?4\n",
            "Ingresa la nota  N1 :3\n",
            "Ingresa la nota  N2 :9\n",
            "Ingresa la nota  N3 :7\n",
            "Ingresa la nota  N4 :0\n",
            "El maximo es 9.0, el minimo es 0.0, la media es 4.75, y su situacionReprobado\n"
          ]
        }
      ]
    },
    {
      "cell_type": "markdown",
      "source": [
        "7 - Has recibido una demanda para tratar 2 listas con los nombres y apellidos de cada estudiante concatenándolos para presentar sus nombres completos en la forma Nombre Apellido. Las listas son:"
      ],
      "metadata": {
        "id": "pPUi1lUfd2gl"
      }
    },
    {
      "cell_type": "code",
      "source": [
        "nombres = [\"juan\", \"MaRia\", \"JOSÉ\"]\n",
        "apellidos = [\"SILVA\", \"sosa\", \"Tavares\"]\n",
        "\n",
        "# Normalizar nombres y apellidos y crear una nueva lista con los nombres completos\n",
        "# Puedes apoyarte en la función map()\n"
      ],
      "metadata": {
        "id": "RKKg7g9ULUSQ"
      },
      "execution_count": null,
      "outputs": []
    },
    {
      "cell_type": "code",
      "source": [
        "nombres = list(map(lambda x: x.capitalize(),nombres))\n",
        "apellidos = list(map(lambda y: y.capitalize(),apellidos))\n",
        "cmpletos = list(map(lambda a,b: a +' '+ b,nombres,apellidos))\n",
        "\n",
        "print(cmpletos)"
      ],
      "metadata": {
        "colab": {
          "base_uri": "https://localhost:8080/"
        },
        "id": "ppHbI6Z1eAzq",
        "outputId": "9d7087e2-d150-4dd2-906f-4ce170aded49"
      },
      "execution_count": null,
      "outputs": [
        {
          "output_type": "stream",
          "name": "stdout",
          "text": [
            "['Juan Silva', 'Maria Sosa', 'José Tavares']\n"
          ]
        }
      ]
    },
    {
      "cell_type": "markdown",
      "source": [
        "8 - Como científico de datos en un equipo de fútbol, necesitas implementar nuevas formas de recopilación de datos sobre el rendimiento de los jugadores y del equipo en su conjunto. Tu primera acción es crear una forma de calcular la puntuación del equipo en el campeonato nacional a partir de los datos de goles marcados y recibidos en cada juego.\n",
        "\n",
        "Escribe una función llamada calcula_puntos() que recibe como parámetros dos listas de números enteros, representando los goles marcados y recibidos por el equipo en cada partido del campeonato. La función debe devolver la puntuación del equipo y el rendimiento en porcentaje, teniendo en cuenta que la victoria vale 3 puntos, el empate 1 punto y la derrota 0 puntos.\n",
        "\n",
        "Nota: si la cantidad de goles marcados en un partido es mayor que los recibidos, el equipo ganó. En caso de ser igual, el equipo empató, y si es menor, el equipo perdió. Para calcular el rendimiento, debemos hacer la razón entre la puntuación del equipo y la puntuación máxima que podría recibir.\n",
        "\n",
        "Para la prueba, utiliza las siguientes listas de goles marcados y recibidos:"
      ],
      "metadata": {
        "id": "pYc9oE4UgUyv"
      }
    },
    {
      "cell_type": "code",
      "source": [
        "goles_marcados = [2, 1, 3, 1, 0]\n",
        "goles_recibidos = [1, 2, 2, 1, 3]\n",
        "\n",
        "# Texto probablemente mostrado:\n",
        "# La puntuación del equipo fue `puntos` y su rendimiento fue `desempeno`%\"\n",
        "v = 3\n",
        "e = 1\n",
        "d = 0\n",
        "\n",
        "#funcion principal que pide el valor de dos listas goles a favor y goles en contra\n",
        "#dentro de un ciclo for evalua los elementos de la laista comparando si es mayor o menor para asignar puntos\n",
        "def calculadora_puntos(a,b):\n",
        "  puntos = 0\n",
        "  for i in range(len(a)):\n",
        "    if a[i] > b[i]:\n",
        "      puntos += 3\n",
        "    elif a[i] == b[i]:\n",
        "      puntos += 1\n",
        "  #se evalua el % de rendimiento en comparacion del total de puntos obtenidos y el total posible\n",
        "  rendi = round(100 * puntos / (len(goles_marcados) * 3),2)\n",
        "\n",
        "  print(f'estos son los puntos {puntos}, el euqipo tuvo un rendimeinto del:{rendi}%')\n",
        "\n",
        "calculadora_puntos(goles_marcados,goles_recibidos)"
      ],
      "metadata": {
        "colab": {
          "base_uri": "https://localhost:8080/"
        },
        "id": "asDIahl9fOSt",
        "outputId": "13d13e6f-f760-4c2c-cd8b-6fdb72cb35da"
      },
      "execution_count": null,
      "outputs": [
        {
          "output_type": "stream",
          "name": "stdout",
          "text": [
            "estos son los puntos 7, el euqipo tuvo un rendimeinto del:46.67%\n"
          ]
        }
      ]
    },
    {
      "cell_type": "markdown",
      "source": [
        "9 - Te han desafiado a crear un código que calcule los gastos de un viaje a una de las cuatro ciudades desde Recife, siendo ellas: Salvador, Fortaleza, Natal y Aracaju.\n",
        "\n",
        "El costo diario del hotel es de 150 reales en todas ellas y el consumo de gasolina en el viaje en coche es de 14 km/l, siendo que el precio de la gasolina es de 5 reales por litro. Los gastos con paseos y alimentación a realizar en cada una de ellas por día serían [200, 400, 250, 300], respectivamente.\n",
        "\n",
        "Sabiendo que las distancias entre Recife y cada una de las ciudades son aproximadamente [850, 800, 300, 550] km, crea tres funciones: la primera función calcula los gastos de hotel (gasto_hotel), la segunda calcula los gastos de gasolina (gasto_gasolina) y la tercera los gastos de paseo y alimentación (gasto_paseo).\n",
        "\n",
        "Para probar, simula un viaje de 3 días a Salvador desde Recife. Considera el viaje de ida y vuelta en coche."
      ],
      "metadata": {
        "id": "GW38d4g9klsU"
      }
    },
    {
      "cell_type": "code",
      "source": [
        "# Texto probablemente mostrado:\n",
        "# Con base en los gastos definidos, un viaje de [dias] días a [ciudad] desde\n",
        "# Recife costaría [gastos] reales.\n",
        "\n",
        "#dATOS Y LISTAS INICIALES\n",
        "ciudades = ['Salvador','Fortaleza','Natal','Aracaju']\n",
        "p_hoteles = [200,400,250,300]\n",
        "distancia = [850,800,300,550]\n",
        "rendimiento = 14\n",
        "precio_gas = 5\n",
        "print('Bienvenido a la calculadora de gastos para vacaciones')\n",
        "dias = int(input('INgresa el numero de dias que estaras de vaciones'))\n",
        "menu = int(input('Ingresa el numero de la ciudad que deseas visitar \\n 1. Salvador \\n 2. Fortaleza \\n 3. Natal \\n 4. Aracaju'))\n",
        "indice = menu -1\n",
        "\n",
        "\n",
        "def calculadora(dias_v):\n",
        "\n",
        "  gastos_gas = round((2 * dias_v * distancia[indice] * precio_gas) /  rendimiento,2)\n",
        "  gasto_hotel = dias_v * p_hoteles[indice]\n",
        "  return (f'Excelente eleccion de ciudad: {ciudades[indice]}, un viaje de {dias_v} dias, tiene los siguientes gastos: Hospedaje: {gasto_hotel}, Transporte: {gastos_gas}, lo que da un Total de: {gastos_gas + gasto_hotel}')\n",
        "\n",
        "calculadora(dias)\n",
        "\n"
      ],
      "metadata": {
        "id": "copI3YDekyhj",
        "colab": {
          "base_uri": "https://localhost:8080/",
          "height": 183
        },
        "outputId": "c65a049f-16ef-466d-8d5b-c214461cfacf"
      },
      "execution_count": 7,
      "outputs": [
        {
          "name": "stdout",
          "output_type": "stream",
          "text": [
            "Bienvenido a la calculadora de gastos para vacaciones\n",
            "INgresa el numero de dias que estaras de vaciones5\n",
            "Ingresa el numero de la ciudad que deseas visitar \n",
            " 1. Salvador \n",
            " 2. Fortaleza \n",
            " 3. Natal \n",
            " 4. Aracaju2\n"
          ]
        },
        {
          "output_type": "execute_result",
          "data": {
            "text/plain": [
              "'Excelente eleccion de ciudad: Fortaleza, un viaje de 5 dias, tiene los siguientes gastos: Hospedaje: 2000, Transporte: 2857.14, lo que da un Total de: 4857.139999999999'"
            ],
            "application/vnd.google.colaboratory.intrinsic+json": {
              "type": "string"
            }
          },
          "metadata": {},
          "execution_count": 7
        }
      ]
    },
    {
      "cell_type": "markdown",
      "source": [],
      "metadata": {
        "id": "qROf7odVfh6o"
      }
    }
  ]
}