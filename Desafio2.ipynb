{
  "nbformat": 4,
  "nbformat_minor": 0,
  "metadata": {
    "colab": {
      "provenance": [],
      "authorship_tag": "ABX9TyMlVKoP13utgl7CfsaOoD1P",
      "include_colab_link": true
    },
    "kernelspec": {
      "name": "python3",
      "display_name": "Python 3"
    },
    "language_info": {
      "name": "python"
    }
  },
  "cells": [
    {
      "cell_type": "markdown",
      "metadata": {
        "id": "view-in-github",
        "colab_type": "text"
      },
      "source": [
        "<a href=\"https://colab.research.google.com/github/TheRealMrR/One_SegundaParte/blob/main/Desafio2.ipynb\" target=\"_parent\"><img src=\"https://colab.research.google.com/assets/colab-badge.svg\" alt=\"Open In Colab\"/></a>"
      ]
    },
    {
      "cell_type": "markdown",
      "source": [
        "\n",
        "\n",
        "Vamos practicar el uso de estructuras condicionales como el if, else y elif a través de algunas actividades. Ahora que estamos avanzando en los contenidos, podemos hacer los desafíos más interesantes: ¡trabajaremos en proyectos de código! Resuelve los problemas iniciales para prepararte para los proyectos:\n",
        "\n",
        "Entrenando la programación\n",
        "\n",
        "1 - Escribe un programa que pida a la persona usuaria que proporcione dos números y muestre el número más grande.\n",
        "\n",
        "\n"
      ],
      "metadata": {
        "id": "SfAcvUKiILen"
      }
    },
    {
      "cell_type": "code",
      "source": [
        "print('Ingresa dos numero para comparar cual es el mas grande')\n",
        "valor_1 = float(input('Ingresa el primer numero: '))\n",
        "valor_2 = float(input('Ingresa el segundo numero: '))\n",
        "if valor_1 > valor_2:\n",
        "  print(f'el numero {valor_1}, es mayor que {valor_2}')\n",
        "else:\n",
        "  print(f'el numero {valor_2}, es mayor que {valor_1}')"
      ],
      "metadata": {
        "colab": {
          "base_uri": "https://localhost:8080/"
        },
        "id": "lcTDCwC3I5-U",
        "outputId": "04b79d18-23c0-4bce-8f82-be0de4247441"
      },
      "execution_count": 1,
      "outputs": [
        {
          "output_type": "stream",
          "name": "stdout",
          "text": [
            "Ingresa dos numero para comparar cual es el mas grande\n",
            "Ingresa el primer numero: 3\n",
            "Ingresa el segundo numero: 5\n",
            "el numero f5.0, es mayor que 3.0\n"
          ]
        }
      ]
    },
    {
      "cell_type": "markdown",
      "source": [
        "2 - Escribe un programa que solicite el porcentaje de crecimiento de producción de una empresa e informe si hubo un crecimiento (porcentaje positivo) o una disminución (porcentaje negativo).\n",
        "\n",
        "\n",
        "\n"
      ],
      "metadata": {
        "id": "7lJloAB3IQ05"
      }
    },
    {
      "cell_type": "code",
      "source": [
        "variacion = float(input('Ingrese el porcentaje de crecimiento: '))\n",
        "\n",
        "if variacion > 0:\n",
        "    print(f'Hubo un crecimiento del {variacion}%')\n",
        "elif variacion < 0:\n",
        "    print(f'Hubo un decrecimiento del {variacion}%')\n",
        "else:\n",
        "    print('No hubo crecimiento ni decrecimiento.')"
      ],
      "metadata": {
        "colab": {
          "base_uri": "https://localhost:8080/"
        },
        "id": "spvGdkFPLrwL",
        "outputId": "75d29fc2-8b7e-47e5-9000-5fdf711adde3"
      },
      "execution_count": 6,
      "outputs": [
        {
          "output_type": "stream",
          "name": "stdout",
          "text": [
            "Ingrese el porcentaje de crecimiento: 12\n",
            "Hubo un crecimiento del 12.0%\n"
          ]
        }
      ]
    },
    {
      "cell_type": "markdown",
      "source": [
        "3 - Escribe un programa que determine si una letra proporcionada por la persona usuaria es una vocal o una consonante.\n",
        "\n"
      ],
      "metadata": {
        "id": "z0TopWMeIbIo"
      }
    },
    {
      "cell_type": "code",
      "source": [
        "vocales = 'a,e,i,o,u'\n",
        "literal = input('Ingresa una letra:').strip().lower()\n",
        "\n",
        "if literal in vocales:\n",
        "  print(f'la letra {literal}, si es una vocal')\n",
        "else:\n",
        "  print(f'la letra {literal}, no es una vocal')"
      ],
      "metadata": {
        "colab": {
          "base_uri": "https://localhost:8080/"
        },
        "id": "ju4JrsmWNCeA",
        "outputId": "88344f0b-94b2-4308-8b2c-18ba82a98bcf"
      },
      "execution_count": 8,
      "outputs": [
        {
          "output_type": "stream",
          "name": "stdout",
          "text": [
            "Ingresa una letra:a\n",
            "la letra a, si es una vocal\n"
          ]
        }
      ]
    },
    {
      "cell_type": "markdown",
      "source": [
        "4 - Escribe un programa que lea valores promedio de precios de un modelo de automóvil durante 3 años consecutivos y muestre el valor más alto y más bajo entre esos tres años.\n",
        "\n"
      ],
      "metadata": {
        "id": "-5P0r7vYIhBM"
      }
    },
    {
      "cell_type": "code",
      "source": [
        "print('Comparador de 3 precios ')\n",
        "print()\n",
        "precio_1 = float(input('Ingresa el primer precio: '))\n",
        "precio_2 = float(input('Ingresa el segundo precio: '))\n",
        "precio_3 = float(input('Ingresa el tercer precio: '))\n",
        "\n",
        "#Comparador de precios el mayor\n",
        "if precio_1 > precio_2 and precio_1 > precio_2:\n",
        "  print('El precio 1 es el mayor de los tres')\n",
        "elif precio_2 > precio_1 and precio_2 > precio_3:\n",
        "  print('El precio 2 es el mayor de los tres')\n",
        "elif precio_3 > precio_1 and precio_3 > precio_2:\n",
        "  print('El precio 3 es el mayor de los tres')\n",
        "\n",
        "#Comparador de precios el meno\n",
        "if precio_1 < precio_2 and precio_1 < precio_2:\n",
        "  print('El precio 1 es el menor de los tres')\n",
        "elif precio_2 < precio_1 and precio_2 < precio_3:\n",
        "  print('El precio 2 es el menor de los tres')\n",
        "elif precio_3 < precio_1 and precio_3 < precio_2:\n",
        "  print('El precio 3 es el menor de los tres')\n",
        "\n"
      ],
      "metadata": {
        "colab": {
          "base_uri": "https://localhost:8080/"
        },
        "id": "2Y9dRTT2OPUA",
        "outputId": "e5280c49-2f48-4c5d-b9ff-58b6d4130dd5"
      },
      "execution_count": 9,
      "outputs": [
        {
          "output_type": "stream",
          "name": "stdout",
          "text": [
            "Comparador de 3 precios \n",
            "\n",
            "Ingresa el primer precio: 12\n",
            "Ingresa el segundo precio: 21\n",
            "Ingresa el tercer precio: 9\n",
            "El precio 2 es el mayor de los tres\n",
            "El precio 1 es el menor de los tres\n"
          ]
        }
      ]
    },
    {
      "cell_type": "markdown",
      "source": [
        "5 - Escribe un programa que pregunte sobre el precio de tres productos e indique cuál es el producto más barato para comprar.\n",
        "\n"
      ],
      "metadata": {
        "id": "6OcViNDXIk8Z"
      }
    },
    {
      "cell_type": "code",
      "source": [
        "print('Comparador de 3 precios de 3 productos')\n",
        "print()\n",
        "precio_1 = float(input('Ingresa el primer precio: '))\n",
        "precio_2 = float(input('Ingresa el segundo precio: '))\n",
        "precio_3 = float(input('Ingresa el tercer precio: '))\n",
        "\n",
        "#Comparador de precios el mayor\n",
        "if precio_1 > precio_2 and precio_1 > precio_2:\n",
        "  print('El precio 1 es el mayor de los tres')\n",
        "elif precio_2 > precio_1 and precio_2 > precio_3:\n",
        "  print('El precio 2 es el mayor de los tres')\n",
        "elif precio_3 > precio_1 and precio_3 > precio_2:\n",
        "  print('El precio 3 es el mayor de los tres')\n",
        "\n",
        "#Comparador de precios el meno\n",
        "if precio_1 < precio_2 and precio_1 < precio_2:\n",
        "  print('El precio 1 es el menor de los tres')\n",
        "elif precio_2 < precio_1 and precio_2 < precio_3:\n",
        "  print('El precio 2 es el menor de los tres')\n",
        "elif precio_3 < precio_1 and precio_3 < precio_2:\n",
        "  print('El precio 3 es el menor de los tres')\n"
      ],
      "metadata": {
        "id": "lIl2Z8p6QjeG"
      },
      "execution_count": null,
      "outputs": []
    },
    {
      "cell_type": "markdown",
      "source": [
        "6 - Escribe un programa que lea tres números y los muestre en orden descendente.\n",
        "\n"
      ],
      "metadata": {
        "id": "XK7XWynnIovi"
      }
    },
    {
      "cell_type": "code",
      "source": [
        "# Pedir 3 números al usuario\n",
        "a = float(input(\"Ingresa el primer número: \"))\n",
        "b = float(input(\"Ingresa el segundo número: \"))\n",
        "c = float(input(\"Ingresa el tercer número: \"))\n",
        "\n",
        "# Comparar y ordenar\n",
        "if a >= b and a >= c:\n",
        "    if b >= c:\n",
        "        print(a, b, c)\n",
        "    else:\n",
        "        print(a, c, b)\n",
        "elif b >= a and b >= c:\n",
        "    if a >= c:\n",
        "        print(b, a, c)\n",
        "    else:\n",
        "        print(b, c, a)\n",
        "else:\n",
        "    if a >= b:\n",
        "        print(c, a, b)\n",
        "    else:\n",
        "        print(c, b, a)"
      ],
      "metadata": {
        "colab": {
          "base_uri": "https://localhost:8080/"
        },
        "id": "byU5C6JcQnkf",
        "outputId": "282aa795-7773-4e6a-e2bb-1a23712d0248"
      },
      "execution_count": 10,
      "outputs": [
        {
          "output_type": "stream",
          "name": "stdout",
          "text": [
            "Ingresa el primer número: 5\n",
            "Ingresa el segundo número: 89\n",
            "Ingresa el tercer número: 1\n",
            "89.0 5.0 1.0\n"
          ]
        }
      ]
    },
    {
      "cell_type": "markdown",
      "source": [
        "7 -Escribe un programa que pregunte en qué turno estudia la persona usuaria (\"mañana\", \"tarde\" o \"noche\") y muestre el mensaje \"¡Buenos Días!\", \"¡Buenas Tardes!\", \"¡Buenas Noches!\" o \"Valor Inválido!\", según el caso.\n",
        "\n"
      ],
      "metadata": {
        "id": "vVBgCfRZIs8L"
      }
    },
    {
      "cell_type": "code",
      "source": [
        "turno = input('En que turno estudias? mañana, tarde o noche > ').lower().strip()\n",
        "\n",
        "if turno == 'mañana':\n",
        "  print('¡Buenos Días!')\n",
        "elif turno == 'tarde':\n",
        "  print('¡Buenas Tardes!')\n",
        "elif turno == 'noche':\n",
        "  print('Buenas Noches!')\n",
        "else:\n",
        "  print('Valor invalido')"
      ],
      "metadata": {
        "colab": {
          "base_uri": "https://localhost:8080/"
        },
        "id": "RGbiqft5R6ut",
        "outputId": "c80760a3-46fa-4d65-f055-79af0fb7ff12"
      },
      "execution_count": 5,
      "outputs": [
        {
          "output_type": "stream",
          "name": "stdout",
          "text": [
            "En que turno estudias? mañana, tarde o noche > noChe\n",
            "Buenas Noches!\n"
          ]
        }
      ]
    },
    {
      "cell_type": "markdown",
      "source": [
        "8 - Escribe un programa que solicite un número entero a la persona usuaria y determine si es par o impar. Pista: Puedes usar el operador módulo (%).\n",
        "\n"
      ],
      "metadata": {
        "id": "ExiOvTfLIvtP"
      }
    },
    {
      "cell_type": "code",
      "source": [
        "print('Programa para validar si un numero es par o impar')\n",
        "num = int(input('Ingresa un numero entero > '))\n",
        "\n",
        "#Usamos el operado modulo para combrobar si es par\n",
        "if num % 2 == 0:\n",
        "  print('Es par')\n",
        "else:\n",
        "  print('Es Impar')"
      ],
      "metadata": {
        "colab": {
          "base_uri": "https://localhost:8080/"
        },
        "id": "SXMWoa22tGgA",
        "outputId": "69850920-148a-4a69-d409-4a99858eef14"
      },
      "execution_count": 8,
      "outputs": [
        {
          "output_type": "stream",
          "name": "stdout",
          "text": [
            "Programa para valirdar si un numero es par o impar\n",
            "Ingresa un numero entero > 0\n",
            "Es par\n"
          ]
        }
      ]
    },
    {
      "cell_type": "markdown",
      "source": [
        "9 - Escribe un programa que pida un número a la persona usuaria y le informe si es entero o decimal.\n",
        "\n",
        "Momento de los proyectos\n",
        "\n"
      ],
      "metadata": {
        "id": "2GVOC8ruI0Cj"
      }
    },
    {
      "cell_type": "code",
      "source": [
        "num =  float(input('escribe un numero >'))\n",
        "num_f = int(num)\n",
        "#Comparamos el numero original en su version decimal y al convertirlo a entero podemos comprobar si es el mismo\n",
        "if num == num_f:\n",
        "  print('Es entero')\n",
        "\n",
        "\n",
        "else:\n",
        "  print('Es decimal')\n",
        ""
      ],
      "metadata": {
        "colab": {
          "base_uri": "https://localhost:8080/"
        },
        "id": "HtWaAN33uI6f",
        "outputId": "ac2c7656-68b4-4967-9460-adc7ddcab7a6"
      },
      "execution_count": 15,
      "outputs": [
        {
          "output_type": "stream",
          "name": "stdout",
          "text": [
            "escribe un numero11\n",
            "Es entero\n"
          ]
        }
      ]
    },
    {
      "cell_type": "markdown",
      "source": [
        "10 - Un programa debe ser escrito para leer dos números y luego preguntar a la persona usuaria qué operación desea realizar. El resultado de la operación debe incluir información sobre el número, si es par o impar, positivo o negativo, e entero o decimal.\n"
      ],
      "metadata": {
        "id": "qjj0beepI27o"
      }
    },
    {
      "cell_type": "code",
      "source": [
        "print('Escribe dos numeros, para poder realizar una operacion')\n",
        "num_uno = float(input('Ingresa el primer valor'))\n",
        "num_dos = float(input('Ingresa el segundo valor'))\n",
        "\n",
        "operacion = input('Ingresa el numero de la operacion que deseas realizar, /n 1. Suma /n 2. Resta /n 3. Division ')\n",
        "bandera = True\n",
        "\n",
        "if operacion == '1':\n",
        "  r =  num_uno + num_dos\n",
        "  print(f'El resultado de la suma es {r}')\n",
        "elif operacion == '2':\n",
        "  r = num_uno - num_dos\n",
        "  print(f'El resultado de la resta es {r}')\n",
        "elif operacion == '3':\n",
        "  r = num_uno / num_dos\n",
        "  print(f'El resultado de la division es {r}')\n",
        "else:\n",
        "  print('Ingresa una opcion valida')\n",
        "  bandera = False\n",
        "\n",
        "if bandera == True:\n",
        "  #Comparamos el numero original en su version decimal y al convertirlo a entero podemos comprobar si es el mismo\n",
        "  if r == int(r):\n",
        "    print('Es entero')\n",
        "    #Usamos el operado modulo para combrobar si es par\n",
        "    if int(r) % 2 == 0:\n",
        "      print('Es par')\n",
        "    else:\n",
        "      print('Es Impar')\n",
        "  else:\n",
        "    print('Es decimal')\n",
        "\n",
        "  if r > 0:\n",
        "    print('Es positivo')\n",
        "  else:\n",
        "    print('Es negativo')\n"
      ],
      "metadata": {
        "colab": {
          "base_uri": "https://localhost:8080/"
        },
        "id": "ctN_lu0JkF0r",
        "outputId": "a28f7ef1-cddf-48e8-bbfd-f072f8065837"
      },
      "execution_count": 3,
      "outputs": [
        {
          "output_type": "stream",
          "name": "stdout",
          "text": [
            "Escribe dos numeros, para poder realizar una operacion\n",
            "Ingresa el primer valor5\n",
            "Ingresa el segundo valor11\n",
            "Ingresa el numero de la operacion que deseas realizar, /n 1. Suma /n 2. Resta /n 3. Division 2\n",
            "El resultado de la resta es -6.0\n",
            "Es entero\n",
            "Es par\n",
            "Es negativo\n"
          ]
        }
      ]
    },
    {
      "cell_type": "markdown",
      "source": [
        "\n",
        "11 - Escribe un programa que pida a la persona usuaria tres números que representan los lados de un triángulo. El programa debe informar si los valores pueden utilizarse para formar un triángulo y, en caso afirmativo, si es equilátero, isósceles o escaleno. Ten en cuenta algunas sugerencias:\n",
        "\n",
        "    Tres lados forman un triángulo cuando la suma de cualesquiera dos lados es mayor que el tercero;\n",
        "    Triángulo Equilátero: tres lados iguales;\n",
        "    Triángulo Isósceles: dos lados iguales;\n",
        "    Triángulo Escaleno: tres lados diferentes.\n",
        "\n"
      ],
      "metadata": {
        "id": "-H4vGl4gj98o"
      }
    },
    {
      "cell_type": "code",
      "source": [
        "print('ingresa el 3 numeros para poder evaluar si pertencecen a un triangulo')\n",
        "a = float(input('Ingresa el primer numero'))\n",
        "b = float(input('Ingresa el segundo numero'))\n",
        "c = float(input('Ingresa el tercer numero'))\n",
        "\n",
        "if a+b > c or a+c > b or b+c > a:\n",
        "  print('Los valores si corresponden a un triangulo')\n",
        "  if a == b and a == c and b == c:\n",
        "    print('Es un triangulo equilatero')\n",
        "  elif a != b and a != c and b !=c:\n",
        "    print('Es un triangulo Escaleno')\n",
        "  else:\n",
        "    print('Es un triangulo Isósceles')\n",
        "\n",
        "else:\n",
        "  print('No cumple los requisitos minimos para un triangulo')\n"
      ],
      "metadata": {
        "colab": {
          "base_uri": "https://localhost:8080/"
        },
        "id": "fS7DNDTdoNt2",
        "outputId": "f00db786-20ac-4f3f-9270-9b90a67587f7"
      },
      "execution_count": 6,
      "outputs": [
        {
          "output_type": "stream",
          "name": "stdout",
          "text": [
            "ingresa el 3 numeros para poder evaluar si pertencecen a un triangulo\n",
            "Ingresa el primer numero3\n",
            "Ingresa el segundo numero4\n",
            "Ingresa el tercer numero5\n",
            "Los valores si corresponden a un triangulo\n",
            "Es un triangulo Escaleno\n"
          ]
        }
      ]
    },
    {
      "cell_type": "markdown",
      "source": [
        "12 - Un establecimiento está vendiendo combustibles con descuentos variables. Para el etanol, si la cantidad comprada es de hasta 15 litros, el descuento será del 2% por litro. En caso contrario, será del 4% por litro. Para el diésel, si la cantidad comprada es de hasta 15 litros, el descuento será del 3% por litro. En caso contrario, será del 5% por litro. El precio por litro de diésel es de R$ 2,00 y el precio por litro de etanol es de R$ 1,70. Escribe un programa que lea la cantidad de litros vendidos y el tipo de combustible (E para etanol y D para diésel) y calcule el valor a pagar por el cliente. Ten en cuenta algunas sugerencias:\n",
        "\n",
        "    El valor del descuento será el producto del precio por litro, la cantidad de litros y el valor del descuento.\n",
        "    El valor a pagar por un cliente será el resultado de la multiplicación del precio por litro por la cantidad de litros menos el valor del descuento resultante del cálculo.\n",
        "\n"
      ],
      "metadata": {
        "id": "8BAgBEbNn9Vj"
      }
    },
    {
      "cell_type": "markdown",
      "source": [
        "13 - En una empresa de venta de bienes raíces, debes crear un código que analice los datos de ventas anuales para ayudar a la dirección en la toma de decisiones. El código debe recopilar los datos de cantidad de ventas durante los años 2022 y 2023 y calcular la variación porcentual. A partir del valor de la variación, se deben proporcionar las siguientes sugerencias:\n",
        "\n",
        "    Para una variación superior al 20%: bonificación para el equipo de ventas.\n",
        "    Para una variación entre el 2% y el 20%: pequeña bonificación para el equipo de ventas.\n",
        "    Para una variación entre el 2% y el -10%: planificación de políticas de incentivo a las ventas.\n",
        "    Para bonificaciones inferiores al -10%: recorte de gastos.\n",
        "\n",
        "Si necesitas ayuda, las opciones de solución para las actividades estarán disponibles en la sección \"Opinión del instructor\"."
      ],
      "metadata": {
        "id": "RQqZQbksn_Hy"
      }
    }
  ]
}